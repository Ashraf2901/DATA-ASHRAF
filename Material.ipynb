{
 "cells": [
  {
   "cell_type": "markdown",
   "metadata": {},
   "source": [
    "# Introduction to Python\n",
    "\n",
    "**Python** merupakan bahasa pemrograman yang pertama kali diliris pada tahun 1991 dan dirancang oleh Guido Van Rossum. \n",
    "Bahasa pemrograman ini umum digunakan dalam bidang data science dan artificial intelligence. Hal tersebut disebabkan oleh sintaks (penulisan code) yang intuitif dan mudah dipelajari serta banyak resources yang mendukung pengembangan analisis data, visualisasi, machine learning dan sebagainya (Pandas, Numpy, Matplotlib dll.) [Python 3.10 Official Documentation](https://docs.python.org/3.10/)."
   ]
  },
  {
   "cell_type": "markdown",
   "metadata": {},
   "source": [
    "## A. Jupyter Notebook"
   ]
  },
  {
   "cell_type": "markdown",
   "metadata": {},
   "source": [
    "### A.1 Markdown Cell and Code Cell\n",
    "\n",
    "Tipe cell dalam notebook:\n",
    "1. Markdown -> untuk menulis teks dan narasi.\n",
    "2. Code -> untuk menulis code dan dijalankan. \n",
    "\n",
    "### A.2 Command Mode and Edit Mode\n",
    "\n",
    "Mode cell dalam notebook:\n",
    "1. Command mode\n",
    "    - `a` : add cell above \n",
    "    - `b` : add cell below \n",
    "    - `d` + `d` : delete selected cell \n",
    "    - `x` : cut selected cell \n",
    "    - `c` : copy selected cell \n",
    "    - `v` : paste selected cell \n",
    "    - `z` : undo \n",
    "    - `m` : change cell type to markdown \n",
    "    - `y` : change cell type to code\n",
    "    - `enter` : enter Edit Mode\n",
    "    - `h` : show keyboard shortcuts\n",
    "\n",
    "2. Edit mode\n",
    "    - `Ctrl + Enter`: eksekusi satu cell\n",
    "    - `Esc`: Mengubah edit mode menjadi command mode\n",
    "\n",
    "- Menulis tebal = **bold**\n",
    "- Menulis miring = *italic*"
   ]
  },
  {
   "cell_type": "markdown",
   "metadata": {
    "vscode": {
     "languageId": "plaintext"
    }
   },
   "source": [
    "## B. Python Variable\n",
    "\n",
    "**Variable** adalah sebuah nama yang dipakai untuk menunjukkan sebuah nilai. Tanda `=` dipakai untuk membuat variable baru, proses ini sering disebut sebagai **assignment**."
   ]
  },
  {
   "cell_type": "code",
   "execution_count": 76,
   "metadata": {},
   "outputs": [],
   "source": [
    "# code\n"
   ]
  },
  {
   "cell_type": "markdown",
   "metadata": {},
   "source": [
    "Python merupakan bahasa pemrograman yang bersifat **case-sensitive** artinya penamaan variabel perlu diperhatikan. Misal penulisan variable `Toni` dengan awalan huruf `T` besar berbeda dengan yang diawali dengan huruf `t` kecil."
   ]
  },
  {
   "cell_type": "code",
   "execution_count": null,
   "metadata": {},
   "outputs": [],
   "source": [
    "\"Toni\" == \"toni\""
   ]
  },
  {
   "cell_type": "markdown",
   "metadata": {},
   "source": [
    "Panduan pemberian nama variabel dalam bahasa Python : \n",
    "- Tidak boleh menggunakan angka di awal. \n",
    "- Menggunakan kombinasi dari huruf kapital (A-Z), huruf nomina (a-z), angka (0-9).\n",
    "- Special character `!, $ , &, dll` tidak dapat digunakan dalam penamaan variabel.\n",
    "- Bersifat case-sensitive sehingga penamaan variable `Python`, `PYTHON`, dan `python` adalah 3 variable yang berbeda\n",
    "- Tidak boleh menggunakan keyword pada Python.\n",
    "\n",
    "**Keywords** merupakan kumpulan kata kunci yang digunakan oleh Python sebagai nama sehingga tidak bisa digunakan untuk penamaan variabel, fungsi dan lainnya, contohnya `True`, `False`, dan `None`. Lengkapnya sebagai berikut : "
   ]
  },
  {
   "cell_type": "code",
   "execution_count": null,
   "metadata": {},
   "outputs": [],
   "source": [
    "import keyword\n",
    "keyword.kwlist"
   ]
  },
  {
   "cell_type": "markdown",
   "metadata": {},
   "source": [
    "## C. Python Data Structure\n",
    "\n",
    "Mengetahui struktur data Python pada umumnya dan menyesuaikan tipe data (*data formatting*)."
   ]
  },
  {
   "cell_type": "markdown",
   "metadata": {},
   "source": [
    "### 1. String\n",
    "\n",
    "Python memiliki tipe data berupa tulisan atau string sebagai objek `str`. Ada beberapa cara untuk membuat nilai string:\n",
    "\n",
    "- menggunakan `''` (yaitu: `'Data Analyst'`)\n",
    "- menggunakan `\"\"` (yaitu : `\"Hari ini adalah hari Jum'at\"`)\n",
    "- menggunakan `'''` atau `\"\"\"` (yaitu: `'''Budi berkata \"Itu ada kegiatan Jum'at Bersih\"'''`)"
   ]
  },
  {
   "cell_type": "code",
   "execution_count": 79,
   "metadata": {},
   "outputs": [],
   "source": [
    "# code"
   ]
  },
  {
   "cell_type": "code",
   "execution_count": 80,
   "metadata": {},
   "outputs": [],
   "source": [
    "# type()"
   ]
  },
  {
   "cell_type": "markdown",
   "metadata": {},
   "source": [
    "### 2. Number\n",
    "\n",
    "Untuk menyimpan number, python memiliki dua tipe data asli yang disebut `int` dan `float`.\n",
    "- `int` digunakan untuk menyimpan bilangan bulat (yaitu: 1,2,-3)\n",
    "- `float` digunakan untuk menyimpan bilangan berkoma atau real (yaitu: 0.7, -1.8, -1000.0).\n",
    "\n",
    "**Operasi Angka** \\\n",
    "Operator Aritmatika:\n",
    "- `+` - Penjumlahan\n",
    "- `-` - Pengurangan\n",
    "- `*` - Perkalian\n",
    "- `/` - Pembagian\n",
    "- `//` - Floor Division (hasil pembagian dibulatkan ke bawah)\n",
    "- `%` - Modulus (hasil sisa pembagian)\n",
    "- `**` - Eksponen (Pangkat)\n",
    "\n",
    "Operator Perbandingan:\n",
    "- `<` - Lebih kecil dari (yaitu : a < b)\n",
    "- `<=` - Lebih kecil atau sama dengan (yaitu : a <= b)\n",
    "- `>` - Lebih besar dari (yaitu: a > b)\n",
    "- `>=` - Lebih besar atau sama dengan (yaitu: a >= b)\n",
    "- `==` - Sama dengan (yaitu: a == b)\n",
    "- `!=` - Tidak Sama dengan (yaitu: a != b)"
   ]
  },
  {
   "cell_type": "code",
   "execution_count": 81,
   "metadata": {},
   "outputs": [],
   "source": [
    "# code"
   ]
  },
  {
   "cell_type": "code",
   "execution_count": 82,
   "metadata": {},
   "outputs": [],
   "source": [
    "# type int"
   ]
  },
  {
   "cell_type": "code",
   "execution_count": 83,
   "metadata": {},
   "outputs": [],
   "source": [
    "# type float"
   ]
  },
  {
   "cell_type": "markdown",
   "metadata": {},
   "source": [
    "### 3. Boolean\n",
    "\n",
    "Boolean menyimpan nilai yang sangat sederhana dalam komputer dan pemrograman, `True` atau `False`.\n",
    "\n",
    "**Operasi Boolean** \\\n",
    "Python menyediakan operator logika seperti:\n",
    "- and (yaitu: a and b) -> Semua kondisi harus benar maka hasilnya True\n",
    "- or (yaitu: a or c) -> Hanya salah satu kondisi benar maka hasilnya True\n",
    "- not (yaitu: not a) -> Lawan kata"
   ]
  },
  {
   "cell_type": "code",
   "execution_count": 84,
   "metadata": {},
   "outputs": [],
   "source": [
    "# Jenjang pendidikan tinggi bapak Rudi\n",
    "undergraduate = True\n",
    "master = True\n",
    "phd = False"
   ]
  },
  {
   "cell_type": "code",
   "execution_count": 85,
   "metadata": {},
   "outputs": [],
   "source": [
    "# Apakah bapak Rudi menyelesaikan pendidikan S1 DAN S2?\n",
    "\n",
    "\n",
    "# Apakah bapak Rudi menyelesaikan pendidikan S1 DAN S3?\n",
    "\n",
    "\n",
    "# Apakah bapak Rudi menyelesaikan pendidikan S2 ATAU S3?\n",
    "\n",
    "\n",
    "# Bapak Rudi TIDAK menyelesaikan pendidikan S1?\n"
   ]
  },
  {
   "cell_type": "code",
   "execution_count": 86,
   "metadata": {},
   "outputs": [],
   "source": [
    "# type()\n"
   ]
  },
  {
   "cell_type": "markdown",
   "metadata": {},
   "source": [
    "### 4. List\n",
    "\n",
    "`list` digunakan untuk menyimpan beberapa nilai dalam python. Untuk membuatnya, cukup letakkan nilai di dalam tanda kurung (yaitu: `x = [10,08,2024]` )\n",
    "\n",
    "**Operasi List**\n",
    "- `data.append(2)` : tambahkan 2 ke data\n",
    "- `data.remove(3)` : hapus 3 dari data\n",
    "\n",
    "Selain operator yang dikenal sebelumnya, salah satu list yang paling berguna adalah dengan menerapkan fungsi agregasi seperti:\n",
    "- `len(data)` : ekstrak panjang daftar\n",
    "- `a in data` : memeriksa apakah nilai `a` ada di objek daftar `data`\n",
    "- `max(data)` : mendapatkan nilai tertinggi dalam data\n",
    "- `sum(data)` : mendapatkan jumlah nilai dalam data\n",
    "\n",
    "Operasi lain yang harus diketahui dalam daftar adalah pengindeksan:\n",
    "- `data[i]` : mengakses elemen ke-i dari data. **Zero Indexing Python.**"
   ]
  },
  {
   "cell_type": "code",
   "execution_count": 87,
   "metadata": {},
   "outputs": [
    {
     "data": {
      "text/plain": [
       "[2, 'Mobile', True, 2.5, 2]"
      ]
     },
     "execution_count": 87,
     "metadata": {},
     "output_type": "execute_result"
    }
   ],
   "source": [
    "data = [2,\"Mobile\", True, 2.5]\n",
    "data.append(2)\n",
    "data"
   ]
  },
  {
   "cell_type": "code",
   "execution_count": null,
   "metadata": {},
   "outputs": [],
   "source": [
    "# Zero Indexing Python.\n",
    "data[2]"
   ]
  },
  {
   "cell_type": "code",
   "execution_count": 89,
   "metadata": {},
   "outputs": [
    {
     "data": {
      "text/plain": [
       "list"
      ]
     },
     "execution_count": 89,
     "metadata": {},
     "output_type": "execute_result"
    }
   ],
   "source": [
    "type(data)"
   ]
  },
  {
   "cell_type": "markdown",
   "metadata": {},
   "source": [
    "### 5. Dictionaries\n",
    "\n",
    "Kami telah belajar tentang urutan dalam Python, tetapi sekarang kami akan mengganti persneling dan belajar tentang pemetaan dengan Python. Jika Anda terbiasa dengan bahasa lain, Anda dapat menganggap Kamus ini sebagai tabel hash.\n",
    "\n",
    "Dictionary Python terdiri dari **key** dan kemudian **value** terkait. Nilai itu bisa berupa hampir semua objek Python.\n",
    "\n",
    "**Membuat Dictionary**\n",
    "\n",
    "Mari kita lihat bagaimana kita dapat membuat dictionary untuk mendapatkan pemahaman yang lebih baik tentang cara kerjanya!"
   ]
  },
  {
   "cell_type": "code",
   "execution_count": 90,
   "metadata": {},
   "outputs": [],
   "source": [
    "# Make a dictionary with {} and : to signify a key and a value\n",
    "# my_dict = "
   ]
  },
  {
   "cell_type": "code",
   "execution_count": 91,
   "metadata": {},
   "outputs": [],
   "source": [
    "# my_dict['nama']"
   ]
  },
  {
   "cell_type": "code",
   "execution_count": 92,
   "metadata": {},
   "outputs": [],
   "source": [
    "# type(my_dict)"
   ]
  },
  {
   "cell_type": "markdown",
   "metadata": {},
   "source": [
    "## D. Introduction to Pandas Library\n",
    "\n",
    "Library merupakan kumpulan alat-alat yang digunakan untuk membantu proses penyelesaian masalah.\n",
    "\n",
    "- `pandas` merupakan salah satu library dalam bahasa pemrograma Python yang powerful sebagai tools analisis data. \n",
    "\n",
    "- `pandas` dapat mempermudah pengolahan data karena memiliki objek bernama **DataFrame**.\n",
    "\n",
    "- Untuk informasi lebih lengkapnya dapat mengunjungi [official documentation](https://pandas.pydata.org/)"
   ]
  },
  {
   "cell_type": "markdown",
   "metadata": {},
   "source": [
    "#### 1. Import Library"
   ]
  },
  {
   "cell_type": "code",
   "execution_count": 93,
   "metadata": {},
   "outputs": [],
   "source": [
    "# Import Pandas + aliasing\n",
    "import pandas as pd"
   ]
  },
  {
   "cell_type": "code",
   "execution_count": 94,
   "metadata": {},
   "outputs": [
    {
     "data": {
      "text/plain": [
       "'2.1.4'"
      ]
     },
     "execution_count": 94,
     "metadata": {},
     "output_type": "execute_result"
    }
   ],
   "source": [
    "# check versi pandas\n",
    "pd.__version__"
   ]
  },
  {
   "cell_type": "markdown",
   "metadata": {},
   "source": [
    "#### 2. Read Data\n",
    "\n",
    "Kita dapat membaca data dengan format `.csv` melalui `.read_csv()`. Membaca data `sales.csv`. Sintaks : `pd.read_csv(path/data)`.\n",
    "\n",
    "Silahkan baca data penjualan supermarket, [LEBIH LANJUT](https://www.kaggle.com/datasets/aungpyaeap/supermarket-sales). "
   ]
  },
  {
   "cell_type": "markdown",
   "metadata": {},
   "source": [
    "Apabila kita ingin set kolom pertama `Invoice ID` menjadi index dari dataframe. Caranya: menambahkan parameter index_col=0."
   ]
  },
  {
   "cell_type": "markdown",
   "metadata": {},
   "source": [
    "Parameter `index_col` dapat menerima beberapa nilai : \n",
    "- (0,1,2, dst) : menunjukkan index kolom yang dijadikan index baris. \n",
    "- `nama_kolom` : menunjukkan nama kolom yang dijadikan index baris. \n",
    "- `False` : Menggunakan index baris yang disediakan oleh `pandas` atau (default). \n",
    "- Beberapa parameter dalam method `.read_csv()`, dokumentasi selengkapnya ada [di sini](https://pandas.pydata.org/pandas-docs/stable/reference/api/pandas.read_csv.html). "
   ]
  },
  {
   "cell_type": "code",
   "execution_count": 95,
   "metadata": {},
   "outputs": [],
   "source": [
    "# baca data\\sales.csv simpan sales"
   ]
  },
  {
   "cell_type": "code",
   "execution_count": 96,
   "metadata": {},
   "outputs": [],
   "source": [
    "# type(sales)"
   ]
  },
  {
   "cell_type": "code",
   "execution_count": 97,
   "metadata": {},
   "outputs": [],
   "source": [
    "# Melihat 5 data teratas\n"
   ]
  },
  {
   "cell_type": "markdown",
   "metadata": {},
   "source": [
    "Attribute information\n",
    "- `Invoice id`: Computer generated sales slip invoice identification number\n",
    "- `Branch`: Branch of supercenter (3 branches are available identified by A, B and C).\n",
    "- `City`: Location of supercenters\n",
    "- `Customer type`: Type of customers, recorded by Members for customers using member card and Normal for without member card.\n",
    "- `Gender`: Gender type of customer\n",
    "- `Product line`: General item categorization groups - Electronic accessories, Fashion accessories, Food and beverages, Health and beauty, - Home and lifestyle, Sports and travel\n",
    "- `Unit price`: Price of each product in $\n",
    "- `Quantity`: Number of products purchased by customer\n",
    "- `Tax`: 5% tax fee for customer buying\n",
    "- `Total`: Total price including tax\n",
    "- `Date`: Date of purchase (Record available from January 2019 to March 2019)\n",
    "- `Time`: Purchase time (10am to 9pm)\n",
    "- `Payment`: Payment used by customer for purchase (3 methods are available – Cash, Credit card and Ewallet)\n",
    "- `COGS`: Cost of goods sold\n",
    "- `Gross margin percentage`: Gross margin percentage\n",
    "- `Gross income`: Gross income\n",
    "- `Rating`: Customer stratification rating on their overall shopping experience (On a scale of 1 to 10)"
   ]
  },
  {
   "cell_type": "markdown",
   "metadata": {},
   "source": [
    "**Review Materi**\n",
    "\n",
    "Berdasarkan pada berbagai materi penulisan code python di atas, manakah di antara ke-5 kdoe program ini yang tidak menghasilkan error ketika dijalankan?\n",
    "- [ ] `import Pandas as pd`\n",
    "- [ ] `print(100**2)`\n",
    "- [ ] `pd.read_csv(\"data\\sales.csv\", index_col = false)`.\n",
    "- [ ] `True = 1`"
   ]
  },
  {
   "cell_type": "markdown",
   "metadata": {},
   "source": [
    "#### 3. Check Tipe Data `pandas`"
   ]
  },
  {
   "cell_type": "code",
   "execution_count": 98,
   "metadata": {},
   "outputs": [],
   "source": [
    "# code"
   ]
  },
  {
   "cell_type": "markdown",
   "metadata": {},
   "source": [
    "- Dataframe merupakan tabel/data tabular dua dimensi yaitu baris dan kolom.\n",
    "- Dataframe terdiri dari beberapa **Series** (kolom).\n",
    "- Dalam satu series harus memiliki tipe data yang sama.\n",
    "- `pandas` akan menentukan tipe data dari masing-masing Series, tapi hasil dari pandas tidak selalu benar.\n",
    "\n",
    "\n",
    "\n",
    "Berikut rangkuman tipe data `pandas`:\n",
    "\n",
    "| Pandas dtype  | Python type  | Usage                                        |\n",
    "|---------------|--------------|----------------------------------------------|\n",
    "| object        | str or mixed | Text or mixed numeric and non-numeric values |\n",
    "| int64         | int          | Integer numbers                              |\n",
    "| float64       | float        | Floating point numbers                       |\n",
    "| bool          | bool         | True/False values                            |\n",
    "| datetime64    | NA           | Date and time values                         |\n",
    "| timedelta[ns] | NA           | Differences between two datetimes            |\n",
    "| category      | NA           | Finite list of text values                   |\n",
    "\n",
    "Referensi: [Overview of Pandas Data Types](https://pbpython.com/pandas_dtypes.html)"
   ]
  },
  {
   "cell_type": "code",
   "execution_count": 99,
   "metadata": {},
   "outputs": [],
   "source": [
    "# Tipe data setiap kolom / series  `.dtypes`"
   ]
  },
  {
   "cell_type": "markdown",
   "metadata": {},
   "source": [
    "#### 4. Data Formatting\n",
    "\n",
    "Data formatting merupakan proses untuk mengubah format suatu data menjadi format sebenarnya. Kita dapat menggunakan `astype()`. Contoh \n",
    "Sintaks : \n",
    "\n",
    "`df['column_name'] = df['column_name'].astype('new_data_types')`"
   ]
  },
  {
   "cell_type": "code",
   "execution_count": 100,
   "metadata": {},
   "outputs": [],
   "source": [
    "#sales.nunique()"
   ]
  },
  {
   "cell_type": "markdown",
   "metadata": {},
   "source": [
    "Data yang Perlu disesuaikan :\n",
    "- `Branch` = `category`\n",
    "- `City` = `category`\n",
    "- `Customer type` = `category`\n",
    "- `Gender` = `category`\n",
    "- `Product line` = `category`\n",
    "- `Date` = `datetime64[ns]`\n",
    "- `Time` = `datetime64[ns]`\n",
    "- `Payment` = `category`"
   ]
  },
  {
   "cell_type": "code",
   "execution_count": 101,
   "metadata": {},
   "outputs": [],
   "source": [
    "# Copy dulu datanya agar data aslinya tidak berubah ke df "
   ]
  },
  {
   "cell_type": "code",
   "execution_count": 102,
   "metadata": {},
   "outputs": [],
   "source": [
    "# df['Branch'] = df['Branch'].astype('category')\n",
    "\n",
    "# df.dtypes"
   ]
  },
  {
   "cell_type": "markdown",
   "metadata": {},
   "source": [
    "#### 5. Feature Engineering - Datetime Partition (**Complement**)\n",
    "\n",
    "Kegunaan sebuah kolom menjadi tipe data `datetime64` adalah dapat mengambil bagian waktu informasi waktu secara lebih spesifik dan digunakan untuk analisis harian, mingguan, bulanan, dan sebagainya. \n",
    "\n",
    "**Date component (numeric)**\n",
    "- `.dt.year` : tahun\n",
    "- `.dt.month` : bulan (dalam angka)\n",
    "- `.dt.day` : tanggal (dalam angka)\n",
    "- `.dt.dayofweek` : hari ke berapa dalam seminggu (0-6)\n",
    "\n",
    "**Data component (period)**\n",
    "- `.dt.to_period('Y')`: periode quarter (12 bulanan)\n",
    "- `.dt.to_period('Q')`: periode quarter (3 bulanan)\n",
    "- `.dt.to_period('M')`: periode bulanan (1 bulanan)\n",
    "- `.dt.to_period('D')`: periode harian (1 harian)\n",
    "\n",
    "\n",
    "**Date component (string)**\n",
    "- `.dt.month_name()` : nama bulan\n",
    "- `.dt.day_name()` : nama hari\n",
    "\n",
    "\n",
    "**Time component**\n",
    "- `.dt.hour` : jam\n",
    "- `.dt.minute` : menit\n",
    "- `.dt.second` : detik\n",
    "\n",
    "> [Dokumentasi: datetime properties](https://pandas.pydata.org/pandas-docs/stable/reference/series.html#datetimelike-properties)"
   ]
  },
  {
   "cell_type": "code",
   "execution_count": 103,
   "metadata": {},
   "outputs": [],
   "source": [
    "# Menambahkan kolom Tahun, Bulan, Nama Hari dan simpan ke category\n"
   ]
  },
  {
   "cell_type": "code",
   "execution_count": 104,
   "metadata": {},
   "outputs": [],
   "source": [
    "# cek 5 data teratas"
   ]
  },
  {
   "cell_type": "markdown",
   "metadata": {},
   "source": [
    "## E. Data Cleansing"
   ]
  },
  {
   "cell_type": "markdown",
   "metadata": {},
   "source": [
    "### Missing Value"
   ]
  },
  {
   "cell_type": "markdown",
   "metadata": {},
   "source": [
    "##### 1. Check Missing Value "
   ]
  },
  {
   "cell_type": "code",
   "execution_count": 105,
   "metadata": {},
   "outputs": [
    {
     "data": {
      "text/html": [
       "<div>\n",
       "<style scoped>\n",
       "    .dataframe tbody tr th:only-of-type {\n",
       "        vertical-align: middle;\n",
       "    }\n",
       "\n",
       "    .dataframe tbody tr th {\n",
       "        vertical-align: top;\n",
       "    }\n",
       "\n",
       "    .dataframe thead th {\n",
       "        text-align: right;\n",
       "    }\n",
       "</style>\n",
       "<table border=\"1\" class=\"dataframe\">\n",
       "  <thead>\n",
       "    <tr style=\"text-align: right;\">\n",
       "      <th></th>\n",
       "      <th>Branch</th>\n",
       "      <th>City</th>\n",
       "      <th>Customer type</th>\n",
       "      <th>Gender</th>\n",
       "      <th>Product line</th>\n",
       "      <th>Unit price</th>\n",
       "      <th>Quantity</th>\n",
       "      <th>Tax 5%</th>\n",
       "      <th>Total</th>\n",
       "      <th>Date</th>\n",
       "      <th>Time</th>\n",
       "      <th>Payment</th>\n",
       "      <th>cogs</th>\n",
       "      <th>gross margin percentage</th>\n",
       "      <th>gross income</th>\n",
       "      <th>Rating</th>\n",
       "    </tr>\n",
       "    <tr>\n",
       "      <th>Invoice ID</th>\n",
       "      <th></th>\n",
       "      <th></th>\n",
       "      <th></th>\n",
       "      <th></th>\n",
       "      <th></th>\n",
       "      <th></th>\n",
       "      <th></th>\n",
       "      <th></th>\n",
       "      <th></th>\n",
       "      <th></th>\n",
       "      <th></th>\n",
       "      <th></th>\n",
       "      <th></th>\n",
       "      <th></th>\n",
       "      <th></th>\n",
       "      <th></th>\n",
       "    </tr>\n",
       "  </thead>\n",
       "  <tbody>\n",
       "    <tr>\n",
       "      <th>750-67-8428</th>\n",
       "      <td>A</td>\n",
       "      <td>Yangon</td>\n",
       "      <td>Member</td>\n",
       "      <td>Female</td>\n",
       "      <td>Health and beauty</td>\n",
       "      <td>NaN</td>\n",
       "      <td>7</td>\n",
       "      <td>26.1415</td>\n",
       "      <td>548.9715</td>\n",
       "      <td>1/5/2019</td>\n",
       "      <td>13:08</td>\n",
       "      <td>Ewallet</td>\n",
       "      <td>475.7753</td>\n",
       "      <td>9.89011</td>\n",
       "      <td>47.0547</td>\n",
       "      <td>9.1</td>\n",
       "    </tr>\n",
       "    <tr>\n",
       "      <th>226-31-3081</th>\n",
       "      <td>C</td>\n",
       "      <td>Naypyitaw</td>\n",
       "      <td>Normal</td>\n",
       "      <td>Female</td>\n",
       "      <td>Electronic accessories</td>\n",
       "      <td>15.28</td>\n",
       "      <td>5</td>\n",
       "      <td>3.8200</td>\n",
       "      <td>80.2200</td>\n",
       "      <td>3/8/2019</td>\n",
       "      <td>10:29</td>\n",
       "      <td>Cash</td>\n",
       "      <td>69.5240</td>\n",
       "      <td>9.89011</td>\n",
       "      <td>6.8760</td>\n",
       "      <td>NaN</td>\n",
       "    </tr>\n",
       "    <tr>\n",
       "      <th>631-41-3108</th>\n",
       "      <td>A</td>\n",
       "      <td>Yangon</td>\n",
       "      <td>Normal</td>\n",
       "      <td>Male</td>\n",
       "      <td>Home and lifestyle</td>\n",
       "      <td>46.33</td>\n",
       "      <td>7</td>\n",
       "      <td>16.2155</td>\n",
       "      <td>340.5255</td>\n",
       "      <td>3/3/2019</td>\n",
       "      <td>13:23</td>\n",
       "      <td>Credit card</td>\n",
       "      <td>295.1221</td>\n",
       "      <td>9.89011</td>\n",
       "      <td>29.1879</td>\n",
       "      <td>7.4</td>\n",
       "    </tr>\n",
       "    <tr>\n",
       "      <th>123-19-1176</th>\n",
       "      <td>NaN</td>\n",
       "      <td>Yangon</td>\n",
       "      <td>Member</td>\n",
       "      <td>Male</td>\n",
       "      <td>Health and beauty</td>\n",
       "      <td>58.22</td>\n",
       "      <td>8</td>\n",
       "      <td>23.2880</td>\n",
       "      <td>489.0480</td>\n",
       "      <td>1/27/2019</td>\n",
       "      <td>20:33</td>\n",
       "      <td>Ewallet</td>\n",
       "      <td>423.8416</td>\n",
       "      <td>9.89011</td>\n",
       "      <td>41.9184</td>\n",
       "      <td>8.4</td>\n",
       "    </tr>\n",
       "    <tr>\n",
       "      <th>373-73-7910</th>\n",
       "      <td>NaN</td>\n",
       "      <td>Yangon</td>\n",
       "      <td>Normal</td>\n",
       "      <td>Male</td>\n",
       "      <td>Sports and travel</td>\n",
       "      <td>NaN</td>\n",
       "      <td>7</td>\n",
       "      <td>30.2085</td>\n",
       "      <td>634.3785</td>\n",
       "      <td>2/8/2019</td>\n",
       "      <td>10:37</td>\n",
       "      <td>Ewallet</td>\n",
       "      <td>549.7947</td>\n",
       "      <td>9.89011</td>\n",
       "      <td>54.3753</td>\n",
       "      <td>5.3</td>\n",
       "    </tr>\n",
       "    <tr>\n",
       "      <th>699-14-3026</th>\n",
       "      <td>C</td>\n",
       "      <td>Naypyitaw</td>\n",
       "      <td>Normal</td>\n",
       "      <td>Male</td>\n",
       "      <td>Electronic accessories</td>\n",
       "      <td>85.39</td>\n",
       "      <td>7</td>\n",
       "      <td>29.8865</td>\n",
       "      <td>627.6165</td>\n",
       "      <td>3/25/2019</td>\n",
       "      <td>18:30</td>\n",
       "      <td>Ewallet</td>\n",
       "      <td>543.9343</td>\n",
       "      <td>9.89011</td>\n",
       "      <td>53.7957</td>\n",
       "      <td>4.1</td>\n",
       "    </tr>\n",
       "    <tr>\n",
       "      <th>355-53-5943</th>\n",
       "      <td>A</td>\n",
       "      <td>Yangon</td>\n",
       "      <td>Member</td>\n",
       "      <td>Female</td>\n",
       "      <td>Electronic accessories</td>\n",
       "      <td>68.84</td>\n",
       "      <td>6</td>\n",
       "      <td>20.6520</td>\n",
       "      <td>433.6920</td>\n",
       "      <td>2/25/2019</td>\n",
       "      <td>14:36</td>\n",
       "      <td>Ewallet</td>\n",
       "      <td>375.8664</td>\n",
       "      <td>9.89011</td>\n",
       "      <td>37.1736</td>\n",
       "      <td>5.8</td>\n",
       "    </tr>\n",
       "    <tr>\n",
       "      <th>315-22-5665</th>\n",
       "      <td>C</td>\n",
       "      <td>Naypyitaw</td>\n",
       "      <td>Normal</td>\n",
       "      <td>Female</td>\n",
       "      <td>Home and lifestyle</td>\n",
       "      <td>73.56</td>\n",
       "      <td>10</td>\n",
       "      <td>36.7800</td>\n",
       "      <td>772.3800</td>\n",
       "      <td>2/24/2019</td>\n",
       "      <td>11:38</td>\n",
       "      <td>Ewallet</td>\n",
       "      <td>669.3960</td>\n",
       "      <td>9.89011</td>\n",
       "      <td>66.2040</td>\n",
       "      <td>8.0</td>\n",
       "    </tr>\n",
       "    <tr>\n",
       "      <th>665-32-9167</th>\n",
       "      <td>A</td>\n",
       "      <td>Yangon</td>\n",
       "      <td>Member</td>\n",
       "      <td>Female</td>\n",
       "      <td>Health and beauty</td>\n",
       "      <td>36.26</td>\n",
       "      <td>2</td>\n",
       "      <td>3.6260</td>\n",
       "      <td>76.1460</td>\n",
       "      <td>1/10/2019</td>\n",
       "      <td>17:15</td>\n",
       "      <td>Credit card</td>\n",
       "      <td>65.9932</td>\n",
       "      <td>9.89011</td>\n",
       "      <td>6.5268</td>\n",
       "      <td>7.2</td>\n",
       "    </tr>\n",
       "    <tr>\n",
       "      <th>692-92-5582</th>\n",
       "      <td>B</td>\n",
       "      <td>Mandalay</td>\n",
       "      <td>Member</td>\n",
       "      <td>Female</td>\n",
       "      <td>Food and beverages</td>\n",
       "      <td>54.84</td>\n",
       "      <td>3</td>\n",
       "      <td>8.2260</td>\n",
       "      <td>172.7460</td>\n",
       "      <td>2/20/2019</td>\n",
       "      <td>13:27</td>\n",
       "      <td>Credit card</td>\n",
       "      <td>149.7132</td>\n",
       "      <td>9.89011</td>\n",
       "      <td>14.8068</td>\n",
       "      <td>5.9</td>\n",
       "    </tr>\n",
       "    <tr>\n",
       "      <th>351-62-0822</th>\n",
       "      <td>B</td>\n",
       "      <td>Mandalay</td>\n",
       "      <td>Member</td>\n",
       "      <td>Female</td>\n",
       "      <td>Fashion accessories</td>\n",
       "      <td>14.48</td>\n",
       "      <td>4</td>\n",
       "      <td>2.8960</td>\n",
       "      <td>60.8160</td>\n",
       "      <td>2/6/2019</td>\n",
       "      <td>18:07</td>\n",
       "      <td>Ewallet</td>\n",
       "      <td>52.7072</td>\n",
       "      <td>9.89011</td>\n",
       "      <td>5.2128</td>\n",
       "      <td>4.5</td>\n",
       "    </tr>\n",
       "    <tr>\n",
       "      <th>529-56-3974</th>\n",
       "      <td>B</td>\n",
       "      <td>Mandalay</td>\n",
       "      <td>Member</td>\n",
       "      <td>Male</td>\n",
       "      <td>Electronic accessories</td>\n",
       "      <td>25.51</td>\n",
       "      <td>4</td>\n",
       "      <td>5.1020</td>\n",
       "      <td>107.1420</td>\n",
       "      <td>3/9/2019</td>\n",
       "      <td>17:03</td>\n",
       "      <td>Cash</td>\n",
       "      <td>92.8564</td>\n",
       "      <td>9.89011</td>\n",
       "      <td>9.1836</td>\n",
       "      <td>6.8</td>\n",
       "    </tr>\n",
       "    <tr>\n",
       "      <th>365-64-0515</th>\n",
       "      <td>A</td>\n",
       "      <td>Yangon</td>\n",
       "      <td>Normal</td>\n",
       "      <td>Female</td>\n",
       "      <td>Electronic accessories</td>\n",
       "      <td>46.95</td>\n",
       "      <td>5</td>\n",
       "      <td>11.7375</td>\n",
       "      <td>246.4875</td>\n",
       "      <td>2/12/2019</td>\n",
       "      <td>10:25</td>\n",
       "      <td>Ewallet</td>\n",
       "      <td>213.6225</td>\n",
       "      <td>9.89011</td>\n",
       "      <td>21.1275</td>\n",
       "      <td>7.1</td>\n",
       "    </tr>\n",
       "    <tr>\n",
       "      <th>252-56-2699</th>\n",
       "      <td>A</td>\n",
       "      <td>Yangon</td>\n",
       "      <td>Normal</td>\n",
       "      <td>Male</td>\n",
       "      <td>Food and beverages</td>\n",
       "      <td>43.19</td>\n",
       "      <td>10</td>\n",
       "      <td>21.5950</td>\n",
       "      <td>453.4950</td>\n",
       "      <td>2/7/2019</td>\n",
       "      <td>16:48</td>\n",
       "      <td>Ewallet</td>\n",
       "      <td>393.0290</td>\n",
       "      <td>9.89011</td>\n",
       "      <td>38.8710</td>\n",
       "      <td>NaN</td>\n",
       "    </tr>\n",
       "    <tr>\n",
       "      <th>829-34-3910</th>\n",
       "      <td>NaN</td>\n",
       "      <td>Yangon</td>\n",
       "      <td>Normal</td>\n",
       "      <td>Female</td>\n",
       "      <td>Health and beauty</td>\n",
       "      <td>NaN</td>\n",
       "      <td>10</td>\n",
       "      <td>35.6900</td>\n",
       "      <td>749.4900</td>\n",
       "      <td>3/29/2019</td>\n",
       "      <td>19:21</td>\n",
       "      <td>Cash</td>\n",
       "      <td>649.5580</td>\n",
       "      <td>9.89011</td>\n",
       "      <td>64.2420</td>\n",
       "      <td>5.7</td>\n",
       "    </tr>\n",
       "    <tr>\n",
       "      <th>299-46-1805</th>\n",
       "      <td>B</td>\n",
       "      <td>Mandalay</td>\n",
       "      <td>Member</td>\n",
       "      <td>Female</td>\n",
       "      <td>Sports and travel</td>\n",
       "      <td>93.72</td>\n",
       "      <td>6</td>\n",
       "      <td>28.1160</td>\n",
       "      <td>590.4360</td>\n",
       "      <td>1/15/2019</td>\n",
       "      <td>16:19</td>\n",
       "      <td>Cash</td>\n",
       "      <td>511.7112</td>\n",
       "      <td>9.89011</td>\n",
       "      <td>50.6088</td>\n",
       "      <td>4.5</td>\n",
       "    </tr>\n",
       "    <tr>\n",
       "      <th>656-95-9349</th>\n",
       "      <td>A</td>\n",
       "      <td>Yangon</td>\n",
       "      <td>Member</td>\n",
       "      <td>Female</td>\n",
       "      <td>Health and beauty</td>\n",
       "      <td>68.93</td>\n",
       "      <td>7</td>\n",
       "      <td>24.1255</td>\n",
       "      <td>506.6355</td>\n",
       "      <td>3/11/2019</td>\n",
       "      <td>11:03</td>\n",
       "      <td>Credit card</td>\n",
       "      <td>439.0841</td>\n",
       "      <td>9.89011</td>\n",
       "      <td>43.4259</td>\n",
       "      <td>4.6</td>\n",
       "    </tr>\n",
       "    <tr>\n",
       "      <th>765-26-6951</th>\n",
       "      <td>A</td>\n",
       "      <td>Yangon</td>\n",
       "      <td>Normal</td>\n",
       "      <td>Male</td>\n",
       "      <td>Sports and travel</td>\n",
       "      <td>72.61</td>\n",
       "      <td>6</td>\n",
       "      <td>21.7830</td>\n",
       "      <td>457.4430</td>\n",
       "      <td>1/1/2019</td>\n",
       "      <td>10:39</td>\n",
       "      <td>Credit card</td>\n",
       "      <td>396.4506</td>\n",
       "      <td>9.89011</td>\n",
       "      <td>39.2094</td>\n",
       "      <td>6.9</td>\n",
       "    </tr>\n",
       "    <tr>\n",
       "      <th>329-62-1586</th>\n",
       "      <td>A</td>\n",
       "      <td>Yangon</td>\n",
       "      <td>Normal</td>\n",
       "      <td>Male</td>\n",
       "      <td>Food and beverages</td>\n",
       "      <td>NaN</td>\n",
       "      <td>3</td>\n",
       "      <td>8.2005</td>\n",
       "      <td>172.2105</td>\n",
       "      <td>1/21/2019</td>\n",
       "      <td>18:00</td>\n",
       "      <td>Credit card</td>\n",
       "      <td>149.2491</td>\n",
       "      <td>9.89011</td>\n",
       "      <td>14.7609</td>\n",
       "      <td>NaN</td>\n",
       "    </tr>\n",
       "    <tr>\n",
       "      <th>319-50-3348</th>\n",
       "      <td>B</td>\n",
       "      <td>Mandalay</td>\n",
       "      <td>Normal</td>\n",
       "      <td>Female</td>\n",
       "      <td>Home and lifestyle</td>\n",
       "      <td>40.30</td>\n",
       "      <td>2</td>\n",
       "      <td>4.0300</td>\n",
       "      <td>84.6300</td>\n",
       "      <td>3/11/2019</td>\n",
       "      <td>15:30</td>\n",
       "      <td>Ewallet</td>\n",
       "      <td>73.3460</td>\n",
       "      <td>9.89011</td>\n",
       "      <td>7.2540</td>\n",
       "      <td>4.4</td>\n",
       "    </tr>\n",
       "    <tr>\n",
       "      <th>319-50-3348</th>\n",
       "      <td>B</td>\n",
       "      <td>Mandalay</td>\n",
       "      <td>Normal</td>\n",
       "      <td>Female</td>\n",
       "      <td>Home and lifestyle</td>\n",
       "      <td>40.30</td>\n",
       "      <td>2</td>\n",
       "      <td>4.0300</td>\n",
       "      <td>84.6300</td>\n",
       "      <td>3/11/2019</td>\n",
       "      <td>15:30</td>\n",
       "      <td>Ewallet</td>\n",
       "      <td>73.3460</td>\n",
       "      <td>9.89011</td>\n",
       "      <td>7.2540</td>\n",
       "      <td>4.4</td>\n",
       "    </tr>\n",
       "    <tr>\n",
       "      <th>373-73-7910</th>\n",
       "      <td>A</td>\n",
       "      <td>Yangon</td>\n",
       "      <td>Normal</td>\n",
       "      <td>Male</td>\n",
       "      <td>Sports and travel</td>\n",
       "      <td>NaN</td>\n",
       "      <td>7</td>\n",
       "      <td>30.2085</td>\n",
       "      <td>634.3785</td>\n",
       "      <td>2/8/2019</td>\n",
       "      <td>10:37</td>\n",
       "      <td>Ewallet</td>\n",
       "      <td>549.7947</td>\n",
       "      <td>9.89011</td>\n",
       "      <td>54.3753</td>\n",
       "      <td>5.3</td>\n",
       "    </tr>\n",
       "  </tbody>\n",
       "</table>\n",
       "</div>"
      ],
      "text/plain": [
       "            Branch       City Customer type  Gender            Product line  \\\n",
       "Invoice ID                                                                    \n",
       "750-67-8428      A     Yangon        Member  Female       Health and beauty   \n",
       "226-31-3081      C  Naypyitaw        Normal  Female  Electronic accessories   \n",
       "631-41-3108      A     Yangon        Normal    Male      Home and lifestyle   \n",
       "123-19-1176    NaN     Yangon        Member    Male       Health and beauty   \n",
       "373-73-7910    NaN     Yangon        Normal    Male       Sports and travel   \n",
       "699-14-3026      C  Naypyitaw        Normal    Male  Electronic accessories   \n",
       "355-53-5943      A     Yangon        Member  Female  Electronic accessories   \n",
       "315-22-5665      C  Naypyitaw        Normal  Female      Home and lifestyle   \n",
       "665-32-9167      A     Yangon        Member  Female       Health and beauty   \n",
       "692-92-5582      B   Mandalay        Member  Female      Food and beverages   \n",
       "351-62-0822      B   Mandalay        Member  Female     Fashion accessories   \n",
       "529-56-3974      B   Mandalay        Member    Male  Electronic accessories   \n",
       "365-64-0515      A     Yangon        Normal  Female  Electronic accessories   \n",
       "252-56-2699      A     Yangon        Normal    Male      Food and beverages   \n",
       "829-34-3910    NaN     Yangon        Normal  Female       Health and beauty   \n",
       "299-46-1805      B   Mandalay        Member  Female       Sports and travel   \n",
       "656-95-9349      A     Yangon        Member  Female       Health and beauty   \n",
       "765-26-6951      A     Yangon        Normal    Male       Sports and travel   \n",
       "329-62-1586      A     Yangon        Normal    Male      Food and beverages   \n",
       "319-50-3348      B   Mandalay        Normal  Female      Home and lifestyle   \n",
       "319-50-3348      B   Mandalay        Normal  Female      Home and lifestyle   \n",
       "373-73-7910      A     Yangon        Normal    Male       Sports and travel   \n",
       "\n",
       "             Unit price  Quantity   Tax 5%     Total       Date   Time  \\\n",
       "Invoice ID                                                               \n",
       "750-67-8428         NaN         7  26.1415  548.9715   1/5/2019  13:08   \n",
       "226-31-3081       15.28         5   3.8200   80.2200   3/8/2019  10:29   \n",
       "631-41-3108       46.33         7  16.2155  340.5255   3/3/2019  13:23   \n",
       "123-19-1176       58.22         8  23.2880  489.0480  1/27/2019  20:33   \n",
       "373-73-7910         NaN         7  30.2085  634.3785   2/8/2019  10:37   \n",
       "699-14-3026       85.39         7  29.8865  627.6165  3/25/2019  18:30   \n",
       "355-53-5943       68.84         6  20.6520  433.6920  2/25/2019  14:36   \n",
       "315-22-5665       73.56        10  36.7800  772.3800  2/24/2019  11:38   \n",
       "665-32-9167       36.26         2   3.6260   76.1460  1/10/2019  17:15   \n",
       "692-92-5582       54.84         3   8.2260  172.7460  2/20/2019  13:27   \n",
       "351-62-0822       14.48         4   2.8960   60.8160   2/6/2019  18:07   \n",
       "529-56-3974       25.51         4   5.1020  107.1420   3/9/2019  17:03   \n",
       "365-64-0515       46.95         5  11.7375  246.4875  2/12/2019  10:25   \n",
       "252-56-2699       43.19        10  21.5950  453.4950   2/7/2019  16:48   \n",
       "829-34-3910         NaN        10  35.6900  749.4900  3/29/2019  19:21   \n",
       "299-46-1805       93.72         6  28.1160  590.4360  1/15/2019  16:19   \n",
       "656-95-9349       68.93         7  24.1255  506.6355  3/11/2019  11:03   \n",
       "765-26-6951       72.61         6  21.7830  457.4430   1/1/2019  10:39   \n",
       "329-62-1586         NaN         3   8.2005  172.2105  1/21/2019  18:00   \n",
       "319-50-3348       40.30         2   4.0300   84.6300  3/11/2019  15:30   \n",
       "319-50-3348       40.30         2   4.0300   84.6300  3/11/2019  15:30   \n",
       "373-73-7910         NaN         7  30.2085  634.3785   2/8/2019  10:37   \n",
       "\n",
       "                 Payment      cogs  gross margin percentage  gross income  \\\n",
       "Invoice ID                                                                  \n",
       "750-67-8428      Ewallet  475.7753                  9.89011       47.0547   \n",
       "226-31-3081         Cash   69.5240                  9.89011        6.8760   \n",
       "631-41-3108  Credit card  295.1221                  9.89011       29.1879   \n",
       "123-19-1176      Ewallet  423.8416                  9.89011       41.9184   \n",
       "373-73-7910      Ewallet  549.7947                  9.89011       54.3753   \n",
       "699-14-3026      Ewallet  543.9343                  9.89011       53.7957   \n",
       "355-53-5943      Ewallet  375.8664                  9.89011       37.1736   \n",
       "315-22-5665      Ewallet  669.3960                  9.89011       66.2040   \n",
       "665-32-9167  Credit card   65.9932                  9.89011        6.5268   \n",
       "692-92-5582  Credit card  149.7132                  9.89011       14.8068   \n",
       "351-62-0822      Ewallet   52.7072                  9.89011        5.2128   \n",
       "529-56-3974         Cash   92.8564                  9.89011        9.1836   \n",
       "365-64-0515      Ewallet  213.6225                  9.89011       21.1275   \n",
       "252-56-2699      Ewallet  393.0290                  9.89011       38.8710   \n",
       "829-34-3910         Cash  649.5580                  9.89011       64.2420   \n",
       "299-46-1805         Cash  511.7112                  9.89011       50.6088   \n",
       "656-95-9349  Credit card  439.0841                  9.89011       43.4259   \n",
       "765-26-6951  Credit card  396.4506                  9.89011       39.2094   \n",
       "329-62-1586  Credit card  149.2491                  9.89011       14.7609   \n",
       "319-50-3348      Ewallet   73.3460                  9.89011        7.2540   \n",
       "319-50-3348      Ewallet   73.3460                  9.89011        7.2540   \n",
       "373-73-7910      Ewallet  549.7947                  9.89011       54.3753   \n",
       "\n",
       "             Rating  \n",
       "Invoice ID           \n",
       "750-67-8428     9.1  \n",
       "226-31-3081     NaN  \n",
       "631-41-3108     7.4  \n",
       "123-19-1176     8.4  \n",
       "373-73-7910     5.3  \n",
       "699-14-3026     4.1  \n",
       "355-53-5943     5.8  \n",
       "315-22-5665     8.0  \n",
       "665-32-9167     7.2  \n",
       "692-92-5582     5.9  \n",
       "351-62-0822     4.5  \n",
       "529-56-3974     6.8  \n",
       "365-64-0515     7.1  \n",
       "252-56-2699     NaN  \n",
       "829-34-3910     5.7  \n",
       "299-46-1805     4.5  \n",
       "656-95-9349     4.6  \n",
       "765-26-6951     6.9  \n",
       "329-62-1586     NaN  \n",
       "319-50-3348     4.4  \n",
       "319-50-3348     4.4  \n",
       "373-73-7910     5.3  "
      ]
     },
     "execution_count": 105,
     "metadata": {},
     "output_type": "execute_result"
    }
   ],
   "source": [
    "# Read data\n",
    "miss_dup = pd.read_csv(\"data/sales_missing_duplicate.csv\", index_col=\"Invoice ID\")\n",
    "miss_dup"
   ]
  },
  {
   "cell_type": "code",
   "execution_count": 106,
   "metadata": {},
   "outputs": [],
   "source": [
    "# cek missing value .info()"
   ]
  },
  {
   "cell_type": "code",
   "execution_count": 107,
   "metadata": {},
   "outputs": [],
   "source": [
    "# cek missing value .isna().sum()"
   ]
  },
  {
   "cell_type": "markdown",
   "metadata": {},
   "source": [
    "##### 2. Treatment Missing Value\n",
    "\n",
    "Terdapat beberapa cara umum untuk menangani missing values :\n",
    "\n",
    "- Hapus baris atau kolom: Menggunakan metode `dropna()` dengan ambang batas yang wajar untuk menghapus setiap baris yang berisi nilai missing, NA < 5%\n",
    "- Imputasi: Mengisi nilai NA dengan sebuah nilai\n",
    "\n",
    "**Treatment Drop yang Missing Value**\n",
    "\n",
    "- `.dropna(how='any')` : Hapus baris ketika memiliki **minimal 1 kolom** nilai missing. \n",
    "- `.dropna(how='all')` : Hapus baris ketika memiliki **semua kolom** nilai missing.\n",
    "- `.dropna(tresh='...')`: Hapus baris ketika memiliki **angka yang dimasukan** nilai missing."
   ]
  },
  {
   "cell_type": "code",
   "execution_count": 108,
   "metadata": {},
   "outputs": [],
   "source": [
    "# code"
   ]
  },
  {
   "cell_type": "code",
   "execution_count": 109,
   "metadata": {},
   "outputs": [],
   "source": [
    "# thresh = 15, minimal harus ada 15 kolom yang TIDAK missing agar dipertahankan\n",
    "# alias apabila missing value cuma 1 kolom akan dipertahankan \n"
   ]
  },
  {
   "cell_type": "markdown",
   "metadata": {},
   "source": [
    "**Treatment Imputasi yang Missing Value**\n",
    "\n",
    "Imputasi dipilih apabila kita ingin mengisi nilai dari sebuah missing value melalui metode `.fillna()`. Informasi untuk mengisi nilai yang hilang memiliki banyak cara, baik berupa pengecekkan history, pengetahuan bisnis, metode statistik dan sebagainya. \n",
    "\n",
    "Untuk Kolom Numerik : \n",
    "- Isi dengan pusat data seperti `mean` atau `median`.\n",
    "- Isi dengan model prediktif (regresi).\n",
    "\n",
    "Untuk Kolom Kategorikal : \n",
    "- Isi dengan pusta data `modus` (`mode`).\n",
    "- Isi dengan model prediktif (klasifikasi)."
   ]
  },
  {
   "cell_type": "code",
   "execution_count": 110,
   "metadata": {},
   "outputs": [
    {
     "data": {
      "text/plain": [
       "Branch                     3\n",
       "City                       0\n",
       "Customer type              0\n",
       "Gender                     0\n",
       "Product line               0\n",
       "Unit price                 5\n",
       "Quantity                   0\n",
       "Tax 5%                     0\n",
       "Total                      0\n",
       "Date                       0\n",
       "Time                       0\n",
       "Payment                    0\n",
       "cogs                       0\n",
       "gross margin percentage    0\n",
       "gross income               0\n",
       "Rating                     3\n",
       "dtype: int64"
      ]
     },
     "execution_count": 110,
     "metadata": {},
     "output_type": "execute_result"
    }
   ],
   "source": [
    "miss_dup.isna().sum()"
   ]
  },
  {
   "cell_type": "markdown",
   "metadata": {},
   "source": [
    "Data yang Missing Value : \n",
    "1. `Branch` : 3 Kolom -> **object / kategorikal**\n",
    "2. `Unit price` : 5 kolom -> **pengetahuan bisnis**\n",
    "3. `Rating` : 3 kolom -> **numerik**"
   ]
  },
  {
   "cell_type": "code",
   "execution_count": 111,
   "metadata": {},
   "outputs": [
    {
     "data": {
      "text/plain": [
       "'A'"
      ]
     },
     "execution_count": 111,
     "metadata": {},
     "output_type": "execute_result"
    }
   ],
   "source": [
    "# 1. Branch dengan .mode()\n",
    "input_branch = miss_dup['Branch'].mode()[0]\n",
    "input_branch"
   ]
  },
  {
   "cell_type": "code",
   "execution_count": 112,
   "metadata": {},
   "outputs": [],
   "source": [
    "# .fillna(value='...')"
   ]
  },
  {
   "cell_type": "code",
   "execution_count": 113,
   "metadata": {},
   "outputs": [
    {
     "data": {
      "text/plain": [
       "'\\n    Total Sales = Total - Tax 5%\\n    Total Sales = Unit price x Quantity\\n    Total Sales / Quantity = Unit price\\n'"
      ]
     },
     "execution_count": 113,
     "metadata": {},
     "output_type": "execute_result"
    }
   ],
   "source": [
    "# 2. Unit price dengan pengetahuan bisnis\n",
    "\"\"\"\n",
    "    Total Sales = Total - Tax 5%\n",
    "    Total Sales = Unit price x Quantity\n",
    "    Total Sales / Quantity = Unit price\n",
    "\"\"\"\n"
   ]
  },
  {
   "cell_type": "code",
   "execution_count": 114,
   "metadata": {},
   "outputs": [],
   "source": [
    "# 3. Rating dengan .mean()\n"
   ]
  },
  {
   "cell_type": "code",
   "execution_count": 115,
   "metadata": {},
   "outputs": [],
   "source": [
    "# code"
   ]
  },
  {
   "cell_type": "markdown",
   "metadata": {},
   "source": [
    "### Duplicate Data"
   ]
  },
  {
   "cell_type": "markdown",
   "metadata": {},
   "source": [
    "##### 1. Check Duplicated Value \n",
    "\n",
    "Untuk melakukan pengecekan terhadap ada atau tidaknya data yang duplikat, kita dapat menggunakan method `duplicated()`."
   ]
  },
  {
   "cell_type": "code",
   "execution_count": 116,
   "metadata": {},
   "outputs": [],
   "source": [
    "# code"
   ]
  },
  {
   "cell_type": "markdown",
   "metadata": {},
   "source": [
    "> Terdapat dua baris yang memiliki informasi sama persis (duplikasi)."
   ]
  },
  {
   "cell_type": "markdown",
   "metadata": {},
   "source": [
    "##### 2. Treatment Duplicated Value"
   ]
  },
  {
   "cell_type": "code",
   "execution_count": 117,
   "metadata": {},
   "outputs": [],
   "source": [
    "# .drop_duplicates()\n"
   ]
  },
  {
   "cell_type": "code",
   "execution_count": 118,
   "metadata": {},
   "outputs": [],
   "source": [
    "# cek data .info()"
   ]
  },
  {
   "cell_type": "markdown",
   "metadata": {},
   "source": [
    "## F. Exploratory Data Analysis (EDA) - Basic\n",
    "\n",
    "Exploratory Data Analysis (**EDA**) mengacu pada proses melakukan investigasi dan mencari informasi penting dalam suatu data. Kita dapat melihat struktur/bentuk data, gambaran statistik data dan sebagainya. \n",
    "\n",
    "**Method vs. Atribut**\n",
    "- Secara penulisan/sintaks:\n",
    "    - Method menggunakan tanda kurung `()`\n",
    "    - Atribut **tidak** menggunakan tanda kurung\n",
    "\n",
    "- Secara kegunaan:\n",
    "    - Method memiliki nilai parameter yang dapat disesuaikan\n",
    "    - Atribute **tidak** ada parameter\n",
    "\n",
    "Library `pandas` memiliki method dan attribute untuk melakukan EDA : \n",
    "- `.head()` and `.tail()`\n",
    "- `.describe()`\n",
    "- `.dtypes`\n",
    "- `.info()`"
   ]
  },
  {
   "cell_type": "markdown",
   "metadata": {},
   "source": [
    "#### 1. `.head()` dan `.tail()`\n",
    "\n",
    "- `.head()` digunakan untuk melihat data teratas (default = 5)\n",
    "- `.tail()` digunakan untuk melihat data terbawah (default = 5)"
   ]
  },
  {
   "cell_type": "code",
   "execution_count": 119,
   "metadata": {},
   "outputs": [],
   "source": [
    "# df.head(3)"
   ]
  },
  {
   "cell_type": "code",
   "execution_count": 120,
   "metadata": {},
   "outputs": [],
   "source": [
    "# df.tail(2)"
   ]
  },
  {
   "cell_type": "markdown",
   "metadata": {},
   "source": [
    "#### 2. `.describe()`\n",
    "\n",
    "Method `.describe()` merupakan sebuah method yang dapat memberikan ringkasan statistik deskriptif dari suatu kumpulan data. \n",
    "\n",
    "**Statistik deskriptif** adalah metode statistik yang digunakan untuk meringkas, mendeskripsikan, dan menyajikan data sehingga dapat dengan mudah dipahami dan dianalisis. \n",
    "\n",
    "**Komponen Utama Statistik Deskriptif:**\n",
    "\n",
    "##### 1. **Ukuran Pemusatan (Measures of Central Tendency)** -> memberikan informasi tentang nilai tengah atau pusat dari data. \n",
    "- **Mean (Rata-rata)**: Jumlah semua nilai dibagi dengan jumlah nilai.  $$Mean = \\frac{\\sum_{i=1}^n x_i}{n}$$\n",
    "- **Median (Median)**: Nilai tengah dari data yang diurutkan. Jika jumlah nilai genap, median adalah rata-rata dari dua nilai tengah.\n",
    "- **Mode (Modus)**: Nilai yang paling sering muncul dalam dataset.\n",
    "\n",
    "\n",
    "##### 2. **Ukuran Posisi (Measures of Position)** -> Ukuran ini memberikan informasi tentang posisi nilai-nilai dalam data relatif terhadap yang lain.\n",
    "\n",
    "- **Quartiles (Kuartil)**: Tipe khusus dari ukuran posisi yang membagi data menjadi empat bagian yang sama, jadi ada kuartil 1 (25%), 2 (50% atau median), 3 (75%).\n",
    "- **Decile (Desil)**: Tipe khusus dari ukuran posisi yang membagi data menjadi sepuluh bagian yang sama, jadi ada desil 1 (10%), 2(20%), 3(30%), 4(40%), 5(50%)...9(90%).\n",
    "- **Percentiles (Persentil)**: Tipe khusus dari ukuran posisi yang membagi data menjadi seratus bagian yang sama, jadi ada persentil 1,2,3........99. \n",
    "\n",
    "\n",
    "##### 3. **Ukuran Dispersi (Measures of Dispersion)** -> memberikan informasi seberapa tersebar nilai-nilai dalam data.\n",
    "- **Range (Rentang)**: Selisih antara nilai maksimum dan nilai minimum. $$Range = \\text{Max} - \\text{Min}$$\n",
    "- **Variance (Variansi)**: Rata-rata kuadrat dari selisih setiap nilai terhadap mean. Mengukur seberapa besar nilai dalam data tersebar di sekitar mean. $$Variance = \\frac{\\sum (x_i - \\mu)^2}{n}$$\n",
    "- **Standard Deviation (Standar Deviasi)**: Akar kuadrat dari variansi. Ini memberikan ukuran seberapa banyak data bervariasi dari mean. $$Standard Deviation = \\sqrt{\\text{Variance}}$$\n",
    "- **Interquartile Range (Rentang Antar Kuartil, IQR)**: Selisih antara kuartil pertama (Q1) dan kuartil ketiga (Q3). Mengukur seberapa besar nilai tersebar di sekitar median.\n",
    "$$IQR = Q3 - Q1$$\n",
    "\n",
    "\n",
    "\n",
    "**Parameter `desribe(include = '....')`** \n",
    "- None: Semua tipe data yang kompatibel\n",
    "- 'all': Semua kolom, tanpa memandang tipe\n",
    "- 'number': Hanya kolom numerik\n",
    "- 'object': Hanya kolom objek (string)\n",
    "- 'category': Hanya kolom kategorikal\n",
    "- 'datetime': Hanya kolom datetime"
   ]
  },
  {
   "cell_type": "markdown",
   "metadata": {},
   "source": [
    "**describe(include='number')**\n",
    "- count : jumlah data.\n",
    "- mean : nilai rata-rata dari data.\n",
    "- std : nilai standar deviasi dari data.\n",
    "- min : nilai terkecil dari data.\n",
    "- 25% : nilai kuartil 1 dari data.\n",
    "- 50% : nilai kuartil 2 atau median dari data\n",
    "- 75% : nilai kuartil 3 dari data.\n",
    "- max : nilai terbesar dari data. "
   ]
  },
  {
   "cell_type": "code",
   "execution_count": 121,
   "metadata": {},
   "outputs": [],
   "source": [
    "# code df."
   ]
  },
  {
   "cell_type": "markdown",
   "metadata": {},
   "source": [
    "> Insight : \n",
    "\n",
    "..."
   ]
  },
  {
   "cell_type": "markdown",
   "metadata": {},
   "source": [
    "**df.describe(include='category')**\n",
    "- count : jumlah keseluruhan kolom data.\n",
    "- unique : nilai unik dari kumpulan data.\n",
    "- top : nilai yang paling sering muncul (modus). \n",
    "- freq : jumlah frekuensi dari nilai modus. "
   ]
  },
  {
   "cell_type": "code",
   "execution_count": 122,
   "metadata": {},
   "outputs": [],
   "source": [
    "# code"
   ]
  },
  {
   "cell_type": "markdown",
   "metadata": {},
   "source": [
    "> Insight : \n",
    "\n",
    "..."
   ]
  },
  {
   "cell_type": "markdown",
   "metadata": {},
   "source": [
    "#### 3. `.dtypes`\n",
    "\n",
    "Atribut yang digunakan untuk mengecek tipe data. "
   ]
  },
  {
   "cell_type": "code",
   "execution_count": 128,
   "metadata": {},
   "outputs": [],
   "source": [
    "# df.dtypes"
   ]
  },
  {
   "cell_type": "markdown",
   "metadata": {},
   "source": [
    "#### 4. `info()`\n",
    "\n",
    "Method yang memberikan kumpulan berbagai informasi, jumlah kolom dan rincian, jumlah baris, tipe data, penggunaan memori dsb."
   ]
  },
  {
   "cell_type": "code",
   "execution_count": 129,
   "metadata": {},
   "outputs": [],
   "source": [
    "# df.info()"
   ]
  },
  {
   "cell_type": "markdown",
   "metadata": {},
   "source": [
    "## G. Data Wrangling dan Exploratory Data Analysis (EDA) - Intermediate"
   ]
  },
  {
   "cell_type": "markdown",
   "metadata": {},
   "source": [
    "### 1 `value_counts()`\n",
    "\n",
    "Melalui method `value_counts(ascending = False)`, kita dapat menghitung jumlah baris pada setiap category dalam 1 kolom (nilai frekuensi/kemunculan data), dan defaultnya akan diurutkan secara descending (besar ke kecil). \n",
    "\n",
    "parameter tambahan : \n",
    "- `sort=False`: untuk mencegah pengurutan apapun sehingga hanya berdasarkan indeks. \n",
    "- `ascending=True`: Mengurutkan nilai dari kecil ke besar / menaik."
   ]
  },
  {
   "cell_type": "code",
   "execution_count": 130,
   "metadata": {},
   "outputs": [],
   "source": [
    "# code"
   ]
  },
  {
   "cell_type": "code",
   "execution_count": 131,
   "metadata": {},
   "outputs": [],
   "source": [
    "# code"
   ]
  },
  {
   "cell_type": "markdown",
   "metadata": {},
   "source": [
    "### 2. `pd.crosstab()`\n",
    "\n",
    "Melalui method `pd.crosstab()`, kita dapat menghitung frekuensi suatu data (fungsi dari value_counts()) dan juga agregasi data. \n",
    "\n",
    "```\n",
    "pd.crosstab(index=....,\n",
    "            columns=....,\n",
    "            values=....,\n",
    "            aggfunc=agg_function)\n",
    "```\n",
    "\n",
    "Parameter : \n",
    "- `index` : kolom yang akan menjadi baris (axis 0)\n",
    "- `columns` : kolom yang akan menjadi kolom (axis 1)\n",
    "- `values` : kolom yang dijadikan landasan menerapkan aggfunc (*optional*)\n",
    "- `aggfunc` : agregasi fungsi, sebuah fungsi yang akan dieksekusi (*optional*)\n",
    "\n",
    "Contoh `aggfunc`:\n",
    "- `mean` : nilai rata-rata\n",
    "- `median` : nilai tengah\n",
    "- `min` : nilai minimum \n",
    "- `max` : nilai maksimum\n",
    "- `count` : jumlah kemunculan baris (tabel frekuensi)\n",
    "- `sum` : jumlah suatu nilai "
   ]
  },
  {
   "cell_type": "markdown",
   "metadata": {},
   "source": [
    "##### Cabang manakah yang memiliki transaksi terbesar dan terkecil ❓"
   ]
  },
  {
   "cell_type": "code",
   "execution_count": 132,
   "metadata": {},
   "outputs": [],
   "source": [
    "# Hanya tabel frekuensi \n"
   ]
  },
  {
   "cell_type": "markdown",
   "metadata": {},
   "source": [
    "Menambahkan method `sort_values()` untuk mengurukan data frame berdasarkan kolom tertentu. \n",
    "\n",
    "- `by` : di isi dengan nama kolom\n",
    "- `ascending` : secara default = True (diurutkan berdasarkan nilai terkecil ke terbesar)."
   ]
  },
  {
   "cell_type": "code",
   "execution_count": 133,
   "metadata": {},
   "outputs": [],
   "source": [
    "# Hanya tabel frekuensi + diurutkan\n"
   ]
  },
  {
   "cell_type": "markdown",
   "metadata": {},
   "source": [
    "> ..."
   ]
  },
  {
   "cell_type": "markdown",
   "metadata": {},
   "source": [
    "##### Pada hari apa yang memiliki transaksi tertinggi dan terendah❓"
   ]
  },
  {
   "cell_type": "code",
   "execution_count": 134,
   "metadata": {},
   "outputs": [],
   "source": [
    "# code"
   ]
  },
  {
   "cell_type": "markdown",
   "metadata": {},
   "source": [
    "> JAWABANNYA :\n",
    "\n",
    "..."
   ]
  },
  {
   "cell_type": "markdown",
   "metadata": {},
   "source": [
    "##### Produk line apa yang paling tinggi transaksinya di setiap cabang ❓"
   ]
  },
  {
   "cell_type": "code",
   "execution_count": 135,
   "metadata": {},
   "outputs": [],
   "source": [
    "# mengetahui frekuensi kombinasi \n"
   ]
  },
  {
   "cell_type": "markdown",
   "metadata": {},
   "source": [
    "**Margins** \n",
    "\n",
    "Dapat menambahkan parameter `margins=True` agar menampilkan total frekuensi transaksi di setiap baris dan kolomnya."
   ]
  },
  {
   "cell_type": "code",
   "execution_count": 136,
   "metadata": {},
   "outputs": [],
   "source": [
    "# mengetahui frekuensi kombinasi + margins\n"
   ]
  },
  {
   "cell_type": "markdown",
   "metadata": {},
   "source": [
    "> JAWABANNYA :\n",
    "\n",
    "..."
   ]
  },
  {
   "cell_type": "markdown",
   "metadata": {},
   "source": [
    "##### Kota apa yang memiliki nilai `gross_income` tertinggi dan Terendah❓"
   ]
  },
  {
   "cell_type": "code",
   "execution_count": 137,
   "metadata": {},
   "outputs": [],
   "source": [
    "# Membuat tabel agregasi\n"
   ]
  },
  {
   "cell_type": "markdown",
   "metadata": {},
   "source": [
    "> JAWABANNYA\n",
    "\n",
    "\n",
    "...\n"
   ]
  },
  {
   "cell_type": "markdown",
   "metadata": {},
   "source": [
    "### 3. `groupby()`\n",
    "\n",
    "Operasi `groupby()` digunakan untuk mengelompokkan suatu kumpulan data berdasarkan hal-hal tertentu. Fungsi agregasi yang dapat digunakan `sum()`, `mean()`, `count()`, `median()`, `min()`, dan `max()`."
   ]
  },
  {
   "cell_type": "code",
   "execution_count": 138,
   "metadata": {},
   "outputs": [],
   "source": [
    "# Mengelompokkan cuma berdasarkan 1 hal\n"
   ]
  },
  {
   "cell_type": "code",
   "execution_count": 139,
   "metadata": {},
   "outputs": [],
   "source": [
    "# Mengelompokkan berdasarkan > 1 hal\n"
   ]
  },
  {
   "cell_type": "markdown",
   "metadata": {},
   "source": [
    "> \n",
    "\n",
    "..."
   ]
  },
  {
   "cell_type": "markdown",
   "metadata": {},
   "source": [
    "##### Berapa total `gross income` setiap bulan di masing-masing kota❓"
   ]
  },
  {
   "cell_type": "code",
   "execution_count": 140,
   "metadata": {},
   "outputs": [],
   "source": [
    "# code"
   ]
  },
  {
   "cell_type": "markdown",
   "metadata": {},
   "source": [
    "## H. Indexing and Subsetting Data \n",
    "\n",
    "Indexing dan Subsetting Data merupakan sebuah proses memilih sebagian data yang hanya diperlukan (baris atau kolom tertentu) dalam proses analisa data.\n",
    "\n",
    "Prose ini dapat dilakukan dengan menggunakan library `pandas` sebagai berikut :\n",
    "\n",
    "1. `.iloc[]` operator\n",
    "2. `select_dtypes()`\n",
    "3. `.drop()`\n",
    "4. conditional subsetting. "
   ]
  },
  {
   "cell_type": "code",
   "execution_count": 141,
   "metadata": {},
   "outputs": [
    {
     "data": {
      "text/html": [
       "<div>\n",
       "<style scoped>\n",
       "    .dataframe tbody tr th:only-of-type {\n",
       "        vertical-align: middle;\n",
       "    }\n",
       "\n",
       "    .dataframe tbody tr th {\n",
       "        vertical-align: top;\n",
       "    }\n",
       "\n",
       "    .dataframe thead th {\n",
       "        text-align: right;\n",
       "    }\n",
       "</style>\n",
       "<table border=\"1\" class=\"dataframe\">\n",
       "  <thead>\n",
       "    <tr style=\"text-align: right;\">\n",
       "      <th></th>\n",
       "      <th>Invoice ID</th>\n",
       "      <th>Branch</th>\n",
       "      <th>City</th>\n",
       "      <th>Customer type</th>\n",
       "      <th>Gender</th>\n",
       "      <th>Product line</th>\n",
       "      <th>Unit price</th>\n",
       "      <th>Quantity</th>\n",
       "      <th>Tax 5%</th>\n",
       "      <th>Total</th>\n",
       "      <th>Date</th>\n",
       "      <th>Time</th>\n",
       "      <th>Payment</th>\n",
       "      <th>cogs</th>\n",
       "      <th>gross margin percentage</th>\n",
       "      <th>gross income</th>\n",
       "      <th>Rating</th>\n",
       "    </tr>\n",
       "  </thead>\n",
       "  <tbody>\n",
       "    <tr>\n",
       "      <th>0</th>\n",
       "      <td>750-67-8428</td>\n",
       "      <td>A</td>\n",
       "      <td>Yangon</td>\n",
       "      <td>Member</td>\n",
       "      <td>Female</td>\n",
       "      <td>Health and beauty</td>\n",
       "      <td>74.69</td>\n",
       "      <td>7</td>\n",
       "      <td>26.1415</td>\n",
       "      <td>548.9715</td>\n",
       "      <td>1/5/2019</td>\n",
       "      <td>13:08</td>\n",
       "      <td>Ewallet</td>\n",
       "      <td>475.7753</td>\n",
       "      <td>9.89011</td>\n",
       "      <td>47.0547</td>\n",
       "      <td>9.1</td>\n",
       "    </tr>\n",
       "    <tr>\n",
       "      <th>1</th>\n",
       "      <td>226-31-3081</td>\n",
       "      <td>C</td>\n",
       "      <td>Naypyitaw</td>\n",
       "      <td>Normal</td>\n",
       "      <td>Female</td>\n",
       "      <td>Electronic accessories</td>\n",
       "      <td>15.28</td>\n",
       "      <td>5</td>\n",
       "      <td>3.8200</td>\n",
       "      <td>80.2200</td>\n",
       "      <td>3/8/2019</td>\n",
       "      <td>10:29</td>\n",
       "      <td>Cash</td>\n",
       "      <td>69.5240</td>\n",
       "      <td>9.89011</td>\n",
       "      <td>6.8760</td>\n",
       "      <td>9.6</td>\n",
       "    </tr>\n",
       "    <tr>\n",
       "      <th>2</th>\n",
       "      <td>631-41-3108</td>\n",
       "      <td>A</td>\n",
       "      <td>Yangon</td>\n",
       "      <td>Normal</td>\n",
       "      <td>Male</td>\n",
       "      <td>Home and lifestyle</td>\n",
       "      <td>46.33</td>\n",
       "      <td>7</td>\n",
       "      <td>16.2155</td>\n",
       "      <td>340.5255</td>\n",
       "      <td>3/3/2019</td>\n",
       "      <td>13:23</td>\n",
       "      <td>Credit card</td>\n",
       "      <td>295.1221</td>\n",
       "      <td>9.89011</td>\n",
       "      <td>29.1879</td>\n",
       "      <td>7.4</td>\n",
       "    </tr>\n",
       "  </tbody>\n",
       "</table>\n",
       "</div>"
      ],
      "text/plain": [
       "    Invoice ID Branch       City Customer type  Gender  \\\n",
       "0  750-67-8428      A     Yangon        Member  Female   \n",
       "1  226-31-3081      C  Naypyitaw        Normal  Female   \n",
       "2  631-41-3108      A     Yangon        Normal    Male   \n",
       "\n",
       "             Product line  Unit price  Quantity   Tax 5%     Total      Date  \\\n",
       "0       Health and beauty       74.69         7  26.1415  548.9715  1/5/2019   \n",
       "1  Electronic accessories       15.28         5   3.8200   80.2200  3/8/2019   \n",
       "2      Home and lifestyle       46.33         7  16.2155  340.5255  3/3/2019   \n",
       "\n",
       "    Time      Payment      cogs  gross margin percentage  gross income  Rating  \n",
       "0  13:08      Ewallet  475.7753                  9.89011       47.0547     9.1  \n",
       "1  10:29         Cash   69.5240                  9.89011        6.8760     9.6  \n",
       "2  13:23  Credit card  295.1221                  9.89011       29.1879     7.4  "
      ]
     },
     "execution_count": 141,
     "metadata": {},
     "output_type": "execute_result"
    }
   ],
   "source": [
    "latihan_sub = pd.read_csv(\"data\\sales.csv\")\n",
    "latihan_sub.head(3)"
   ]
  },
  {
   "cell_type": "markdown",
   "metadata": {},
   "source": [
    "### H.1. `.iloc`\n",
    "\n",
    "`.iloc`/**(index)** merujuk pada urutan **index baris atau kolom** sehingga berupa bilangan bulat. `.iloc` juga menerapkan konsep python berhitung  (*Zero-based indexing*). \n",
    "\n",
    "Contoh :\n",
    "\n",
    "`df.iloc[index baris, index kolom]`\n",
    "\n",
    "`df.iloc[0:10, 7:9]` artinya hanya menampilkan baris urutan ke 0 hingga ke 9, dan kolom ke 7 dan 8. "
   ]
  },
  {
   "cell_type": "code",
   "execution_count": 142,
   "metadata": {},
   "outputs": [
    {
     "data": {
      "text/html": [
       "<div>\n",
       "<style scoped>\n",
       "    .dataframe tbody tr th:only-of-type {\n",
       "        vertical-align: middle;\n",
       "    }\n",
       "\n",
       "    .dataframe tbody tr th {\n",
       "        vertical-align: top;\n",
       "    }\n",
       "\n",
       "    .dataframe thead th {\n",
       "        text-align: right;\n",
       "    }\n",
       "</style>\n",
       "<table border=\"1\" class=\"dataframe\">\n",
       "  <thead>\n",
       "    <tr style=\"text-align: right;\">\n",
       "      <th></th>\n",
       "      <th>Invoice ID</th>\n",
       "      <th>Branch</th>\n",
       "      <th>City</th>\n",
       "      <th>Customer type</th>\n",
       "      <th>Gender</th>\n",
       "    </tr>\n",
       "  </thead>\n",
       "  <tbody>\n",
       "    <tr>\n",
       "      <th>10</th>\n",
       "      <td>351-62-0822</td>\n",
       "      <td>B</td>\n",
       "      <td>Mandalay</td>\n",
       "      <td>Member</td>\n",
       "      <td>Female</td>\n",
       "    </tr>\n",
       "    <tr>\n",
       "      <th>11</th>\n",
       "      <td>529-56-3974</td>\n",
       "      <td>B</td>\n",
       "      <td>Mandalay</td>\n",
       "      <td>Member</td>\n",
       "      <td>Male</td>\n",
       "    </tr>\n",
       "    <tr>\n",
       "      <th>12</th>\n",
       "      <td>365-64-0515</td>\n",
       "      <td>A</td>\n",
       "      <td>Yangon</td>\n",
       "      <td>Normal</td>\n",
       "      <td>Female</td>\n",
       "    </tr>\n",
       "    <tr>\n",
       "      <th>13</th>\n",
       "      <td>252-56-2699</td>\n",
       "      <td>A</td>\n",
       "      <td>Yangon</td>\n",
       "      <td>Normal</td>\n",
       "      <td>Male</td>\n",
       "    </tr>\n",
       "    <tr>\n",
       "      <th>14</th>\n",
       "      <td>829-34-3910</td>\n",
       "      <td>A</td>\n",
       "      <td>Yangon</td>\n",
       "      <td>Normal</td>\n",
       "      <td>Female</td>\n",
       "    </tr>\n",
       "  </tbody>\n",
       "</table>\n",
       "</div>"
      ],
      "text/plain": [
       "     Invoice ID Branch      City Customer type  Gender\n",
       "10  351-62-0822      B  Mandalay        Member  Female\n",
       "11  529-56-3974      B  Mandalay        Member    Male\n",
       "12  365-64-0515      A    Yangon        Normal  Female\n",
       "13  252-56-2699      A    Yangon        Normal    Male\n",
       "14  829-34-3910      A    Yangon        Normal  Female"
      ]
     },
     "execution_count": 142,
     "metadata": {},
     "output_type": "execute_result"
    }
   ],
   "source": [
    "# Hanya menampilkan baris dan kolom\n"
   ]
  },
  {
   "cell_type": "markdown",
   "metadata": {},
   "source": [
    "### H.2. `select_dtypes()`\n",
    "\n",
    "Method `select_dtypes()` berfungsi untuk memilih kolom berdasarkan tipe data yang dipilih. `select_dtypes()` memiliki 2 parameter yang digunakan :\n",
    "- `include` : yang termasuk kolom tipe data dipilih akan ditampilkan kolomnya.\n",
    "- `exclude` : yang tidak termasuk / yang dikecualikan maka kolom tersebut tidak ditampilkan.\n",
    "\n",
    "Pilihan argummen : \n",
    "- `object`, `int64`, `float64`, `bool`, `datetime64`, `timedelta[ns]`, dan `category`.\n"
   ]
  },
  {
   "cell_type": "code",
   "execution_count": 143,
   "metadata": {},
   "outputs": [],
   "source": [
    "# Hanya kolom yang termasuk tipe category yang akan di tampilkan\n"
   ]
  },
  {
   "cell_type": "code",
   "execution_count": 144,
   "metadata": {},
   "outputs": [],
   "source": [
    "# Selain kolom tipe category, maka akan di tampilkan\n"
   ]
  },
  {
   "cell_type": "code",
   "execution_count": 145,
   "metadata": {},
   "outputs": [],
   "source": [
    "# Memilih kolom lebih dari satu tipe data\n"
   ]
  },
  {
   "cell_type": "markdown",
   "metadata": {},
   "source": [
    "### H.3. `.drop()`\n",
    "\n",
    "Method `drop()` berfungsi untuk memotong atau membuang baris atau kolom. Secara default method ini akan menghapus baris (index) dan dapat menghapus kolom menggunakan parameter (columns). "
   ]
  },
  {
   "cell_type": "code",
   "execution_count": 146,
   "metadata": {},
   "outputs": [],
   "source": [
    "# Menghapus baris pertama\n"
   ]
  },
  {
   "cell_type": "code",
   "execution_count": 147,
   "metadata": {},
   "outputs": [],
   "source": [
    "# Hapus baris ke 1 (226-31-3081) dan 2 (631-41-3108) yang baru \n"
   ]
  },
  {
   "cell_type": "code",
   "execution_count": 148,
   "metadata": {},
   "outputs": [],
   "source": [
    "# Bakal error ketika ingin menghapus 'City' karena default dikira baris\n"
   ]
  },
  {
   "cell_type": "code",
   "execution_count": 149,
   "metadata": {},
   "outputs": [],
   "source": [
    "# df.drop(columns='City')"
   ]
  },
  {
   "cell_type": "code",
   "execution_count": 150,
   "metadata": {},
   "outputs": [],
   "source": [
    "# df.drop(columns=['Branch', 'City', 'Customer type'])"
   ]
  },
  {
   "cell_type": "markdown",
   "metadata": {},
   "source": [
    "Catatan :\n",
    "\n",
    "Ketika menggunakan method `.drop()` maka belum akan mengubah data kita (mengurangi data) karena belum di assigment. Perubahan dapat dilakukan dengan meng-assign perubahan :\n",
    "\n",
    "- `df = df.drop(columns=['Branch', 'City', 'Customer type'])`\n",
    "\n",
    "atau menambahkan parameter `inplace=True` : \n",
    "\n",
    "- `df.drop(columns=['Branch', 'City', 'Customer type'], inplace=True)`"
   ]
  },
  {
   "cell_type": "markdown",
   "metadata": {},
   "source": [
    "### H.4.  Conditional Subsetting\n",
    "\n",
    "Subsetting dapat dilakukan berdasarkan kondisi tertentu. Kondisi ini dapat berupa operator pembanding seperti `==`, `!=`, `>`, `>=`, `<`, `<=`. \n",
    "\n",
    "- Contohnya : `latihan_sub[latihan_sub['nama kolom']] <operator pembanding> value`"
   ]
  },
  {
   "cell_type": "markdown",
   "metadata": {},
   "source": [
    "##### Berapa banyak transaksi di kota Naypyitaw dan menghasilkan keuntungan lebih atau sama dengan 50❓"
   ]
  },
  {
   "cell_type": "code",
   "execution_count": null,
   "metadata": {},
   "outputs": [],
   "source": [
    "# Definisikan kondisi"
   ]
  },
  {
   "cell_type": "markdown",
   "metadata": {},
   "source": [
    "> ...."
   ]
  },
  {
   "cell_type": "markdown",
   "metadata": {},
   "source": [
    "##### Berapa banyak transaksi pelanggan Member yang memberikan rating kurang dari atau sama dengan 5❓"
   ]
  },
  {
   "cell_type": "code",
   "execution_count": null,
   "metadata": {},
   "outputs": [],
   "source": [
    "\n"
   ]
  },
  {
   "cell_type": "markdown",
   "metadata": {},
   "source": [
    "> ...."
   ]
  },
  {
   "cell_type": "markdown",
   "metadata": {},
   "source": [
    "##### Berapa banyak transaksi pelanggan Member dan Payment Cash yang memberikan rating lebih dari atau sama dengan 5❓"
   ]
  },
  {
   "cell_type": "code",
   "execution_count": 153,
   "metadata": {},
   "outputs": [],
   "source": [
    "# Kondisi\n",
    "\n",
    "\n",
    "# Persentase pembayaran yang dilakukan secara tunai\n",
    "\n",
    "\n",
    "# Menghitung persentase pelanggan cash yang merasa puas\n"
   ]
  },
  {
   "cell_type": "code",
   "execution_count": 154,
   "metadata": {},
   "outputs": [],
   "source": [
    "# Hasil \n"
   ]
  },
  {
   "cell_type": "markdown",
   "metadata": {},
   "source": [
    "## I. Introduction to Data Visualization\n",
    "\n",
    "Visualisasi (*Visualization*) merupakan suatu cara untuk menyajikan data dalam bentuk visual agar mempermudah kita dan orang lain memahami data. Poin utama dari visualisasi data adalah bagaimana kita bisa menyampaikan sebuah informasi dengan efektif (*insight*) sehingga berguna dalam pembuatan keputusan apapun. \n",
    "\n",
    "Visualisasi data memiliki tiga kategori \n",
    "1. Univariate Visualization\n",
    "2. Bivariate Visualization\n",
    "3. Multivariate Visualization\n",
    "\n",
    "Pemilihan berbagai jenis atau bentuk visualisasi data sangat bergantung pada kondisi data yang akan disajikan, [Guidance Penentuan Jenis Visualisasi](https://www.data-to-viz.com/). "
   ]
  },
  {
   "cell_type": "code",
   "execution_count": 155,
   "metadata": {},
   "outputs": [],
   "source": [
    "import seaborn as sns\n",
    "import matplotlib.pyplot as plt"
   ]
  },
  {
   "cell_type": "markdown",
   "metadata": {},
   "source": [
    "### 1. Univariate Visualization\n",
    "Bentuk visualisasi data yang memvisualisasikan hanya satu variabel dalam suatu waktu."
   ]
  },
  {
   "cell_type": "markdown",
   "metadata": {},
   "source": [
    "#### Histogram Chart\n",
    "\n",
    "Histogram adalah jenis grafik yang menampilkan distribusi frekuensi dari satu variabel kontinyu (*Satu Data Numerik*). Penggunaan :\n",
    "- Menganalisis distribusi atau sebaran data numerik.\n",
    "- Mengidentifikasi pola seperti distribusi normal, bimodal, atau skewness.\n",
    "- Mengetahui frekuensi data dalam interval tertentu."
   ]
  },
  {
   "cell_type": "markdown",
   "metadata": {},
   "source": [
    "##### Hari apakah yang memiliki Jumlah Transaksi Terbesar dan Terkecil❓"
   ]
  },
  {
   "cell_type": "code",
   "execution_count": 156,
   "metadata": {},
   "outputs": [],
   "source": [
    "# Menentukan ukuran canvas\n",
    "\n",
    "\n",
    "# Mengisi visualisasi dengan data\n",
    "\n",
    "\n",
    "# Menambahkan atribut pendukung\n",
    "\n",
    "\n",
    "# Tampilkan\n",
    "\n"
   ]
  },
  {
   "cell_type": "markdown",
   "metadata": {},
   "source": [
    "> Kesimpulan \n",
    "\n",
    "..."
   ]
  },
  {
   "cell_type": "markdown",
   "metadata": {},
   "source": [
    "### 2. Bivariate Visualization\n",
    "Bentuk visualisasi data yang memvisualisasikan hanya dua variabel dalam suatu waktu. Terdapat beberapa tipe kombinasi yang dapat terjadi dari gabungan dua variabel : \n",
    "1. Data Kategorikal (Nilai Berulang) dan Numerik (Nilai Angka)\n",
    "2. Data Numerik (Nilai Angka) dan Numerik (Nilai Angka)\n",
    "3. Data Kategorikal (Nilai Berulang) dan Kategorik (Nilai Berulang) "
   ]
  },
  {
   "cell_type": "markdown",
   "metadata": {},
   "source": [
    "#### 2.A Bar Chart\n",
    "\n",
    "Bar chart adalah jenis grafik yang menggunakan batang untuk mewakili nilai atau frekuensi dari kategori data tertentu. Batang-batang tersebut terpisah dan tidak bersebelahan satu sama lain, menunjukkan perbandingan antar kategori yang berbeda. Penggunaan :\n",
    "- Membandingkan nilai atau frekuensi antar kategori yang berbeda.\n",
    "- Menganalisis data diskrit atau kategorikal.\n",
    "\n",
    "**Note :**\n",
    "- Histogram: Cocok untuk menganalisis distribusi data numerik, melihat frekuensi dalam interval, dan memahami pola penyebaran data.\n",
    "- Bar Chart: Ideal untuk membandingkan nilai di antara beberapa kategori atau kelompok data yang berbeda."
   ]
  },
  {
   "cell_type": "markdown",
   "metadata": {},
   "source": [
    "##### Cabang manakah yang memiliki Total Nilai Penjualan Terbesar ❓"
   ]
  },
  {
   "cell_type": "code",
   "execution_count": 157,
   "metadata": {},
   "outputs": [],
   "source": [
    "# Agregasi Data\n"
   ]
  },
  {
   "cell_type": "code",
   "execution_count": 158,
   "metadata": {},
   "outputs": [],
   "source": [
    "# Menentukan ukuran canvas\n",
    "\n",
    "\n",
    "# Mengisi visualisasi dengan data\n",
    "\n",
    "\n",
    "# Menambahkan atribut pendukung\n",
    "\n",
    "\n",
    "# Tampilkan\n"
   ]
  },
  {
   "cell_type": "markdown",
   "metadata": {},
   "source": [
    "##### Product Line apa yang memberikan gross income terbesar dan terkecil ❓"
   ]
  },
  {
   "cell_type": "code",
   "execution_count": 159,
   "metadata": {},
   "outputs": [],
   "source": [
    "# Agregasi Data\n"
   ]
  },
  {
   "cell_type": "code",
   "execution_count": 160,
   "metadata": {},
   "outputs": [],
   "source": [
    "# Visualisasi data - Horizontal\n"
   ]
  },
  {
   "cell_type": "markdown",
   "metadata": {},
   "source": [
    "> Kesimpulan\n",
    "\n",
    "..."
   ]
  },
  {
   "cell_type": "markdown",
   "metadata": {},
   "source": [
    "#### 2.B Line Chart\n",
    "\n",
    "Diagram garis adalah grafik yang menggunakan garis untuk menghubungkan titik-titik data yang biasanya diambil pada interval yang berurutan. Grafik ini digunakan untuk menunjukkan bagaimana nilai suatu variabel berubah seiring waktu atau kondisi lainnya. Penggunaan : \n",
    "- Menampilkan tren data dari waktu ke waktu.\n",
    "- Melihat pola, misalnya kenaikan atau penurunan dalam data.\n",
    "- Memantau perubahan data harian, mingguan, bulanan, atau tahunan."
   ]
  },
  {
   "cell_type": "markdown",
   "metadata": {},
   "source": [
    "##### Tren mingguan gross income di setiap kota ❓"
   ]
  },
  {
   "cell_type": "code",
   "execution_count": 161,
   "metadata": {},
   "outputs": [],
   "source": [
    "# Ekstrak fitur mingguan \n",
    "\n",
    "\n",
    "# Menghitung Kota Yangon\n",
    "\n",
    "\n",
    "# Menghitung Kota Naypyitaw\n",
    "\n",
    "\n",
    "# Menghitung Kota Mandalay\n"
   ]
  },
  {
   "cell_type": "code",
   "execution_count": 162,
   "metadata": {},
   "outputs": [],
   "source": [
    "# Plot untuk setiap kota\n"
   ]
  },
  {
   "cell_type": "markdown",
   "metadata": {},
   "source": [
    "#### 2.C Boxplot Chart\n",
    "\n",
    "Boxplot adalah grafik yang menunjukkan distribusi data berdasarkan lima angka ringkasan: minimum, kuartil pertama (Q1), median, kuartil ketiga (Q3), dan maksimum. Biasanya digunakan untuk melihat rentang, sebaran dan outlier dalam data. Penggunaan : \n",
    "- Menilai distribusi data, termasuk outlier atau pencilan.\n",
    "- Membandingkan distribusi antar kelompok atau kategori.\n",
    "- Memahami rentang interkuartil dan sebaran data."
   ]
  },
  {
   "cell_type": "code",
   "execution_count": 163,
   "metadata": {},
   "outputs": [],
   "source": [
    "# Membuat boxplot\n"
   ]
  },
  {
   "cell_type": "code",
   "execution_count": 164,
   "metadata": {},
   "outputs": [],
   "source": [
    "\n",
    "\n",
    "# Data contoh untuk boxplot\n",
    "\n",
    "\n",
    "\n",
    "# Data contoh untuk scatter plot\n",
    "\n",
    "\n",
    "\n",
    "# Menampilkan plot\n",
    "\n"
   ]
  },
  {
   "cell_type": "markdown",
   "metadata": {},
   "source": [
    "#### 2.D Scatter Chart\n",
    "\n",
    "Diagram pencar adalah grafik yang menggunakan titik-titik untuk mewakili nilai dua variabel yang berbeda. Titik-titik ini kemudian dipetakan pada sumbu x dan y untuk melihat apakah ada hubungan atau korelasi antara dua variabel. Penggunaan:\n",
    "- Menganalisis hubungan atau korelasi antara dua variabel.\n",
    "- Mengidentifikasi pola, tren, atau anomali dalam data.\n",
    "- Melihat distribusi dan kepadatan data."
   ]
  },
  {
   "cell_type": "code",
   "execution_count": 165,
   "metadata": {},
   "outputs": [],
   "source": [
    "# Membuat scatter plot\n",
    "\n"
   ]
  },
  {
   "cell_type": "markdown",
   "metadata": {},
   "source": [
    "#### 2.E Heatmap Chart\n",
    "\n",
    "Heatmap adalah grafik yang menggunakan skema warna untuk mewakili nilai atau frekuensi data dalam matriks atau tabel. Warna-warna yang berbeda menunjukkan intensitas atau nilai yang berbeda dari data. Penggunaan:\n",
    "- Memvisualisasikan korelasi antara dua set data.\n",
    "- Menyajikan data dalam bentuk matriks yang mudah dipahami secara visual."
   ]
  },
  {
   "cell_type": "code",
   "execution_count": 166,
   "metadata": {},
   "outputs": [],
   "source": [
    "# Persiapan data\n"
   ]
  },
  {
   "cell_type": "code",
   "execution_count": 167,
   "metadata": {},
   "outputs": [],
   "source": [
    "# Membuat heatmap\n"
   ]
  },
  {
   "cell_type": "markdown",
   "metadata": {},
   "source": [
    "### 3. Multivariate Visualization\n",
    "Bentuk visualisasi data yang memvisualisasikan lebih dari dua variabel dalam suatu waktu.\n",
    "\n"
   ]
  },
  {
   "cell_type": "code",
   "execution_count": 168,
   "metadata": {},
   "outputs": [],
   "source": [
    "import matplotlib.pyplot as plt\n",
    "from mpl_toolkits.mplot3d import Axes3D\n",
    "import numpy as np\n",
    "\n",
    "# Data contoh: Tiga variabel (x, y, z)\n",
    "np.random.seed(0)\n",
    "x = np.random.rand(100)\n",
    "y = np.random.rand(100)\n",
    "z = np.random.rand(100) * 100\n",
    "\n",
    "# Membuat 3D scatter plot\n",
    "fig = plt.figure(figsize=(10, 8))\n",
    "ax = fig.add_subplot(111, projection='3d')\n",
    "ax.scatter(x, y, z, s=50, c=z, cmap='viridis', alpha=0.8)\n",
    "ax.set_xlabel('X')\n",
    "ax.set_ylabel('Y')\n",
    "ax.set_zlabel('Z')\n",
    "ax.set_title('3D Scatter Plot')\n",
    "plt.show()"
   ]
  },
  {
   "cell_type": "markdown",
   "metadata": {},
   "source": [
    "Beberapa opsi visualisasi di Python yang dapat dieksplorasi lebih lanjut :\n",
    "\n",
    "- `matplotlib`: semua elemen pada visualisasi dapat dikustomisasi, namun membutuhkan code yang lebih panjang. [Dokumentasi Matplotlib](https://matplotlib.org/3.2.2/tutorials/index.html). \n",
    "- `seaborn`: dikembangkan dari `matplotlib`, lebih sedikit yang dapat dikustomisasi namun lebih mudah. [Dokumentasi Seaborn](https://seaborn.pydata.org/introduction.html).\n",
    "- `plotly`: plot interaktif serta kompatibilitas dengan bahasa lain yang tinggi. [Dokumentasi Plotly](https://plotly.com/python/)."
   ]
  },
  {
   "cell_type": "markdown",
   "metadata": {},
   "source": [
    "## J. Interactive Visualization\n",
    "\n",
    "Visualisasi interaktif digunakan untuk memberikan kesan yang menarik dan insight lebih baik karena kita dapat melihat informasi detail langsung, tinggal di klik. Kita akan membuat visualisasi interaktif menggunakan [`plotly`](https://plotly.com/python/)."
   ]
  },
  {
   "cell_type": "code",
   "execution_count": 169,
   "metadata": {},
   "outputs": [],
   "source": [
    "import plotly\n",
    "import plotly.express as px"
   ]
  },
  {
   "cell_type": "markdown",
   "metadata": {},
   "source": [
    "### 1. Bagaimana Performa (Total, Quantity, Gross Income) Sales Perusahaan dalam Rentang Tertentu?\n",
    "Jadi ntr ada 3 opsi yang bisa dilihat dalam rentang waktu tertentu (Total, Quantity, dan Gross Income). Baru di rekapkan total nilainya / keseluruhan atau total per hari berapa."
   ]
  },
  {
   "cell_type": "code",
   "execution_count": 170,
   "metadata": {},
   "outputs": [],
   "source": [
    "# Persiapan Data\n"
   ]
  },
  {
   "cell_type": "code",
   "execution_count": 171,
   "metadata": {
    "scrolled": false
   },
   "outputs": [],
   "source": [
    "# plot"
   ]
  },
  {
   "cell_type": "markdown",
   "metadata": {},
   "source": [
    "### 2. Bagaimana Performa (Total, Quantity, Gross Income) pada Setiap Product Line?"
   ]
  },
  {
   "cell_type": "code",
   "execution_count": 172,
   "metadata": {},
   "outputs": [],
   "source": [
    "# Persiapan Data\n"
   ]
  },
  {
   "cell_type": "code",
   "execution_count": 173,
   "metadata": {},
   "outputs": [],
   "source": [
    "# plot\n"
   ]
  },
  {
   "cell_type": "markdown",
   "metadata": {},
   "source": [
    "### 3. Bagaimana Persebaran Total Penjualan dalam Hari maupun Jam Tertentu?"
   ]
  },
  {
   "cell_type": "code",
   "execution_count": 174,
   "metadata": {},
   "outputs": [],
   "source": [
    "# Feature Engineering kolom Hour\n",
    "\n",
    "# df['Hour'] = "
   ]
  },
  {
   "cell_type": "code",
   "execution_count": 175,
   "metadata": {},
   "outputs": [
    {
     "data": {
      "text/plain": [
       "\"\\nordered_days = ['Monday', 'Tuesday', 'Wednesday', 'Thursday',\\n                'Friday','Saturday','Sunday']\\n\\ndf['Day of Week'] = pd.Categorical(df['Day of Week'], \\n                                   categories=ordered_days,\\n                                   ordered=True)\\n                                   \\n\""
      ]
     },
     "execution_count": 175,
     "metadata": {},
     "output_type": "execute_result"
    }
   ],
   "source": [
    "# Urutkan nama-nama hari\n",
    "\n",
    "'''\n",
    "ordered_days = ['Monday', 'Tuesday', 'Wednesday', 'Thursday',\n",
    "                'Friday','Saturday','Sunday']\n",
    "\n",
    "df['Day of Week'] = pd.Categorical(df['Day of Week'], \n",
    "                                   categories=ordered_days,\n",
    "                                   ordered=True)\n",
    "                                   \n",
    "'''"
   ]
  },
  {
   "cell_type": "code",
   "execution_count": null,
   "metadata": {
    "scrolled": false
   },
   "outputs": [],
   "source": [
    "# Persiapan data"
   ]
  },
  {
   "cell_type": "code",
   "execution_count": null,
   "metadata": {},
   "outputs": [],
   "source": []
  },
  {
   "cell_type": "markdown",
   "metadata": {},
   "source": [
    "### 4. Bagaimana Perbandingan Gender Pembeli di Setiap Product Line?"
   ]
  },
  {
   "cell_type": "code",
   "execution_count": null,
   "metadata": {
    "scrolled": false
   },
   "outputs": [],
   "source": [
    "# persiapan data\n"
   ]
  },
  {
   "cell_type": "code",
   "execution_count": null,
   "metadata": {},
   "outputs": [],
   "source": [
    "# melt()"
   ]
  },
  {
   "cell_type": "code",
   "execution_count": null,
   "metadata": {},
   "outputs": [],
   "source": [
    "# Plot"
   ]
  },
  {
   "cell_type": "code",
   "execution_count": 370,
   "metadata": {},
   "outputs": [],
   "source": [
    "# df = df.rename(columns={'gross income':'Gross Income'})         \n",
    "# df = df.rename(columns={'cogs':'COGS'})"
   ]
  },
  {
   "cell_type": "markdown",
   "metadata": {},
   "source": [
    "## Dashboard - Streamlit\n",
    "\n",
    "![Alt text](asset/Dashboard.png)"
   ]
  },
  {
   "cell_type": "code",
   "execution_count": 371,
   "metadata": {},
   "outputs": [],
   "source": [
    "# save pickle"
   ]
  },
  {
   "cell_type": "code",
   "execution_count": 372,
   "metadata": {},
   "outputs": [],
   "source": [
    "# coba baca ulang\n",
    "df = pd.read_pickle('data_sales_dash.pkl')"
   ]
  },
  {
   "cell_type": "code",
   "execution_count": null,
   "metadata": {},
   "outputs": [],
   "source": [
    "# cek tipe data\n",
    "df.info()"
   ]
  },
  {
   "cell_type": "markdown",
   "metadata": {},
   "source": [
    "Save to pickel pas persiapan ke pembuatan dashboard untuk mengamankan format. "
   ]
  },
  {
   "cell_type": "markdown",
   "metadata": {},
   "source": [
    "## Final Project\n",
    "\n",
    "Dear Rekan-Rekan,\n",
    "\n",
    "Selamat atas keberhasilannya menyelesaikan Bootcamp Data Science. Dalam rangka untuk mendapatkan sertifkat kegiatan yang sudah diikuti dan meningkatkan kemampuan rekan-rekan dalam mengimplementasikan ilmu yang didapatkan di kelas, Rekan-rekan dapat mengumpulkan hasil latihan berdasarkan tahapan yang sudah kita pelajari di kelas. Adapun untuk referensi pengerjaan, Bapak dan Ibu dapat mengacu pada materi di kelas. Berikut ketentuannya : \n",
    "- Anda di wajibkan untuk menampilkan minimal 2 **visualisasi data interaktif** - bebas (line, bar, scatter dsb).\n",
    "- Anda di wajibkan untuk menerapkan minimal 1 input data dalam visualisasi data interaktif.\n",
    "- Terakhir anda diwajibkan untuk mendeploy projek anda melalui akun Github. \n",
    "\n",
    "Sumber Data yang dapat digunakan :\n",
    "- [Vehicle Sales Data](https://www.kaggle.com/datasets/syedanwarafridi/vehicle-sales-data)\n",
    "- [NYC Property Sales](https://www.kaggle.com/datasets/new-york-city/nyc-property-sales)\n",
    "- Atau data lainnya yang sesuai dengan ketertarikan anda, bisa explorasi di [Kaggle](kaggle.com), dsb.\n",
    "\n",
    "\n",
    "\n",
    "Mohon untuk mengumpulkan hasil LBB paling lambat pada hari Minggu, 08 September 2024, 11:59 WIB, dengan melampirkan link dashboard anda.\n",
    "\n",
    "Selamat mengeksplorasi !"
   ]
  },
  {
   "cell_type": "markdown",
   "metadata": {},
   "source": [
    "**Note :**\n",
    "- Materi yang dipelajari selama 4 hari ini memang masih sangat terbatas tetapi sangat baik sebagai bagian proses untuk pengembangan diri lebih lanjut.\n",
    "- Anda diharapkan dapat belajar secara aktif melalui pembuatan berbagai project baru dengan mencari data dari berbagai sumber [Kaggle](kaggle.com), [UC Irvine Machine Learning Repository](https://archive.ics.uci.edu/v), dsb.\n",
    "- Anda juga dapat mengembangkan skill anda ke ranah pengolahan data yang lebih dalam (Machine Learning, Artificial Intelligence dsb)."
   ]
  },
  {
   "cell_type": "markdown",
   "metadata": {},
   "source": [
    "# Reference\n",
    "\n",
    "https://medium.com/@gfakhira9/to-period-909ee90ce6c1\n",
    "\n",
    "https://www.geeksforgeeks.org/what-is-univariate-bivariate-multivariate-analysis-in-data-visualisation/"
   ]
  }
 ],
 "metadata": {
  "kernelspec": {
   "display_name": "dss_june",
   "language": "python",
   "name": "python3"
  },
  "language_info": {
   "codemirror_mode": {
    "name": "ipython",
    "version": 3
   },
   "file_extension": ".py",
   "mimetype": "text/x-python",
   "name": "python",
   "nbconvert_exporter": "python",
   "pygments_lexer": "ipython3",
   "version": "3.10.14"
  }
 },
 "nbformat": 4,
 "nbformat_minor": 2
}
